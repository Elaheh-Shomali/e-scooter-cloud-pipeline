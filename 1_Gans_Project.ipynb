{
 "cells": [
  {
   "cell_type": "markdown",
   "metadata": {},
   "source": [
    "# &nbsp; Project: Gans company "
   ]
  },
  {
   "cell_type": "markdown",
   "metadata": {},
   "source": [
    "## 1.&nbsp; Scraping Basic Information"
   ]
  },
  {
   "cell_type": "markdown",
   "metadata": {},
   "source": [
    "We need to import some functions:"
   ]
  },
  {
   "cell_type": "code",
   "execution_count": 2,
   "metadata": {},
   "outputs": [],
   "source": [
    "import pandas as pd\n",
    "import requests\n",
    "from bs4 import BeautifulSoup\n",
    "\n",
    "from lat_lon_parser import parse    # for decimal coordinates\n",
    "from datetime import datetime # to get today's date"
   ]
  },
  {
   "cell_type": "markdown",
   "metadata": {},
   "source": [
    "You will need to install sqlalchemy and pymysql, if they are not already installed."
   ]
  },
  {
   "cell_type": "code",
   "execution_count": 3,
   "metadata": {},
   "outputs": [],
   "source": [
    "# install if needed\n",
    "# !pip install sqlalchemy\n",
    "# !pip install pymysql"
   ]
  },
  {
   "cell_type": "markdown",
   "metadata": {},
   "source": [
    "### 1.1.&nbsp; Scraping country, latitude and longitude of each city\n",
    "We scrape the basic information of each city from their respective Wikipedia pages:\n",
    "\n",
    " - Berlin: https://en.wikipedia.org/wiki/Berlin\n",
    " - Hamburg: https://en.wikipedia.org/wiki/Hamburg\n",
    " - Munich: https://en.wikipedia.org/wiki/Munich"
   ]
  },
  {
   "cell_type": "code",
   "execution_count": 4,
   "metadata": {},
   "outputs": [],
   "source": [
    "list_of_cities = [\"Berlin\", \"Hamburg\", \"Munich\"]"
   ]
  },
  {
   "cell_type": "markdown",
   "metadata": {},
   "source": [
    "We write a function to scrape the country, latitude and longitude of each city and make a datafrmae of it:"
   ]
  },
  {
   "cell_type": "code",
   "execution_count": 5,
   "metadata": {},
   "outputs": [],
   "source": [
    "def cities_dataframe(cities):\n",
    "\n",
    "  city_data = []\n",
    "\n",
    "  for city in cities:\n",
    "    url = f\"https://www.wikipedia.org/wiki/{city}\"\n",
    "    response = requests.get(url)\n",
    "    city_soup = BeautifulSoup(response.content, 'html.parser')\n",
    "\n",
    "    # extract the relevant information\n",
    "    city_latitude = city_soup.find(class_=\"latitude\").get_text()\n",
    "    city_longitude = city_soup.find(class_=\"longitude\").get_text()\n",
    "    country = city_soup.find(class_=\"infobox-data\").get_text()\n",
    "\n",
    "    # keep track of data per city\n",
    "    city_data.append({\"City\": city,\n",
    "                    \"Country\": country,\n",
    "                    \"Latitude\": parse(city_latitude), # latitude in decimal format\n",
    "                    \"Longitude\": parse(city_longitude), # longitude in decimal format\n",
    "                    })\n",
    "\n",
    "  return pd.DataFrame(city_data)"
   ]
  },
  {
   "cell_type": "code",
   "execution_count": 6,
   "metadata": {},
   "outputs": [
    {
     "data": {
      "text/html": [
       "<div>\n",
       "<style scoped>\n",
       "    .dataframe tbody tr th:only-of-type {\n",
       "        vertical-align: middle;\n",
       "    }\n",
       "\n",
       "    .dataframe tbody tr th {\n",
       "        vertical-align: top;\n",
       "    }\n",
       "\n",
       "    .dataframe thead th {\n",
       "        text-align: right;\n",
       "    }\n",
       "</style>\n",
       "<table border=\"1\" class=\"dataframe\">\n",
       "  <thead>\n",
       "    <tr style=\"text-align: right;\">\n",
       "      <th></th>\n",
       "      <th>City</th>\n",
       "      <th>Country</th>\n",
       "      <th>Latitude</th>\n",
       "      <th>Longitude</th>\n",
       "    </tr>\n",
       "  </thead>\n",
       "  <tbody>\n",
       "    <tr>\n",
       "      <th>0</th>\n",
       "      <td>Berlin</td>\n",
       "      <td>Germany</td>\n",
       "      <td>52.5200</td>\n",
       "      <td>13.405</td>\n",
       "    </tr>\n",
       "    <tr>\n",
       "      <th>1</th>\n",
       "      <td>Hamburg</td>\n",
       "      <td>Germany</td>\n",
       "      <td>53.5500</td>\n",
       "      <td>10.000</td>\n",
       "    </tr>\n",
       "    <tr>\n",
       "      <th>2</th>\n",
       "      <td>Munich</td>\n",
       "      <td>Germany</td>\n",
       "      <td>48.1375</td>\n",
       "      <td>11.575</td>\n",
       "    </tr>\n",
       "  </tbody>\n",
       "</table>\n",
       "</div>"
      ],
      "text/plain": [
       "      City  Country  Latitude  Longitude\n",
       "0   Berlin  Germany   52.5200     13.405\n",
       "1  Hamburg  Germany   53.5500     10.000\n",
       "2   Munich  Germany   48.1375     11.575"
      ]
     },
     "execution_count": 6,
     "metadata": {},
     "output_type": "execute_result"
    }
   ],
   "source": [
    "cities_df = cities_dataframe(list_of_cities)\n",
    "cities_df"
   ]
  },
  {
   "cell_type": "code",
   "execution_count": 7,
   "metadata": {},
   "outputs": [
    {
     "name": "stdout",
     "output_type": "stream",
     "text": [
      "<class 'pandas.core.frame.DataFrame'>\n",
      "RangeIndex: 3 entries, 0 to 2\n",
      "Data columns (total 4 columns):\n",
      " #   Column     Non-Null Count  Dtype  \n",
      "---  ------     --------------  -----  \n",
      " 0   City       3 non-null      object \n",
      " 1   Country    3 non-null      object \n",
      " 2   Latitude   3 non-null      float64\n",
      " 3   Longitude  3 non-null      float64\n",
      "dtypes: float64(2), object(2)\n",
      "memory usage: 228.0+ bytes\n"
     ]
    }
   ],
   "source": [
    "# Check the data type of all columns.\n",
    "cities_df.info()"
   ]
  },
  {
   "cell_type": "markdown",
   "metadata": {},
   "source": [
    "### 1.2.&nbsp; Scraping population\n",
    "Then, we extract the population of a city. Since, this information changes over time, we also need to add a timestamp."
   ]
  },
  {
   "cell_type": "code",
   "execution_count": 8,
   "metadata": {},
   "outputs": [],
   "source": [
    "def populations_dataframe(cities):\n",
    "\n",
    "    population_data = []\n",
    "\n",
    "    for city in cities:\n",
    "        url = f\"https://www.wikipedia.org/wiki/{city}\"\n",
    "        response = requests.get(url)\n",
    "        city_soup = BeautifulSoup(response.content, 'html.parser')\n",
    "\n",
    "        # extract the relevant information\n",
    "        city_population = city_soup.find(string=\"Population\").find_next(\"td\").get_text()\n",
    "        city_population_clean = int(city_population.replace(\",\", \"\"))\n",
    "        today = datetime.today().strftime(\"%d.%m.%Y\")\n",
    "        today_clean = datetime.strptime(today, \"%d.%m.%Y\")\n",
    "\n",
    "        # keep track of data per city\n",
    "        population_data.append({\"City\": city,\n",
    "                        \"Population\": city_population_clean,\n",
    "                        \"Timestamp_Population\": today_clean\n",
    "                        })\n",
    "\n",
    "    return pd.DataFrame(population_data)"
   ]
  },
  {
   "cell_type": "code",
   "execution_count": 9,
   "metadata": {},
   "outputs": [
    {
     "data": {
      "text/html": [
       "<div>\n",
       "<style scoped>\n",
       "    .dataframe tbody tr th:only-of-type {\n",
       "        vertical-align: middle;\n",
       "    }\n",
       "\n",
       "    .dataframe tbody tr th {\n",
       "        vertical-align: top;\n",
       "    }\n",
       "\n",
       "    .dataframe thead th {\n",
       "        text-align: right;\n",
       "    }\n",
       "</style>\n",
       "<table border=\"1\" class=\"dataframe\">\n",
       "  <thead>\n",
       "    <tr style=\"text-align: right;\">\n",
       "      <th></th>\n",
       "      <th>City</th>\n",
       "      <th>Population</th>\n",
       "      <th>Timestamp_Population</th>\n",
       "    </tr>\n",
       "  </thead>\n",
       "  <tbody>\n",
       "    <tr>\n",
       "      <th>0</th>\n",
       "      <td>Berlin</td>\n",
       "      <td>3878100</td>\n",
       "      <td>2024-12-08</td>\n",
       "    </tr>\n",
       "    <tr>\n",
       "      <th>1</th>\n",
       "      <td>Hamburg</td>\n",
       "      <td>1964021</td>\n",
       "      <td>2024-12-08</td>\n",
       "    </tr>\n",
       "    <tr>\n",
       "      <th>2</th>\n",
       "      <td>Munich</td>\n",
       "      <td>1510378</td>\n",
       "      <td>2024-12-08</td>\n",
       "    </tr>\n",
       "  </tbody>\n",
       "</table>\n",
       "</div>"
      ],
      "text/plain": [
       "      City  Population Timestamp_Population\n",
       "0   Berlin     3878100           2024-12-08\n",
       "1  Hamburg     1964021           2024-12-08\n",
       "2   Munich     1510378           2024-12-08"
      ]
     },
     "execution_count": 9,
     "metadata": {},
     "output_type": "execute_result"
    }
   ],
   "source": [
    "population_df = populations_dataframe(list_of_cities)\n",
    "population_df"
   ]
  },
  {
   "cell_type": "code",
   "execution_count": 10,
   "metadata": {},
   "outputs": [
    {
     "name": "stdout",
     "output_type": "stream",
     "text": [
      "<class 'pandas.core.frame.DataFrame'>\n",
      "RangeIndex: 3 entries, 0 to 2\n",
      "Data columns (total 3 columns):\n",
      " #   Column                Non-Null Count  Dtype         \n",
      "---  ------                --------------  -----         \n",
      " 0   City                  3 non-null      object        \n",
      " 1   Population            3 non-null      int64         \n",
      " 2   Timestamp_Population  3 non-null      datetime64[ns]\n",
      "dtypes: datetime64[ns](1), int64(1), object(1)\n",
      "memory usage: 204.0+ bytes\n"
     ]
    }
   ],
   "source": [
    "# Check the data type of all columns again.\n",
    "population_df.info()"
   ]
  },
  {
   "cell_type": "markdown",
   "metadata": {},
   "source": [
    "---\n",
    "## 2.&nbsp; Accessing the data using APIs with keys\n"
   ]
  },
  {
   "cell_type": "markdown",
   "metadata": {},
   "source": [
    "### 2.1.&nbsp; Collect weather data using the [OpenWeather](https://openweathermap.org/).\n",
    "We creating a function for multiple cities to get the weather information and make a datafrmae of it:"
   ]
  },
  {
   "cell_type": "code",
   "execution_count": 11,
   "metadata": {},
   "outputs": [],
   "source": [
    "# Define the API key to be passed into the url in a .py file called safe.\n",
    "from safe import API_key"
   ]
  },
  {
   "cell_type": "code",
   "execution_count": 12,
   "metadata": {},
   "outputs": [],
   "source": [
    "def weather_dataframe(list_of_cities):\n",
    "  \n",
    "  # Define the limit to be passed into the url.\n",
    "  limit = 5\n",
    "\n",
    "  # Create an empty list for each of the values.\n",
    "  weather_dictionary = {\"city_name\": [],\n",
    "                        \"forecast_time\": [],\n",
    "                        \"outlook\": [],\n",
    "                        \"description\": [],\n",
    "                        \"temperature\": [],\n",
    "                        \"feels_like\": [],\n",
    "                        \"temp_min\": [],\n",
    "                        \"temp_max\": [],\n",
    "                        \"wind_speed\": [],\n",
    "                        \"rain_prob\": []}\n",
    "  \n",
    "  # Get the coordinates of the desired city\n",
    "  for city in list_of_cities:\n",
    "    coordinates = requests.get(f\"http://api.openweathermap.org/data/2.5/forecast?q={city}&limit={limit}&appid={API_key}\")\n",
    "    coordinates_json= coordinates.json()\n",
    "\n",
    "    # Define the parameters to be passed into the url.\n",
    "    lat = coordinates_json[\"city\"][\"coord\"][\"lat\"]\n",
    "    lon = coordinates_json[\"city\"][\"coord\"][\"lon\"]\n",
    "\n",
    "    # Define the parameters to be passed into the url.\n",
    "    weather = (requests\n",
    "           .get(\n",
    "               f\"https://api.openweathermap.org/data/2.5/forecast?lat={lat}&lon={lon}&appid={API_key}&units=metric\"\n",
    "               )\n",
    "               )\n",
    "    weather_json = weather.json()\n",
    "\n",
    "    # Iterate over the list inside the weather_dictionary to get the data for different days and time.\n",
    "    i = 0\n",
    "\n",
    "    for _ in weather_json[\"list\"]:\n",
    "      # extract the relevant information\n",
    "      weather_dictionary[\"city_name\"].append(weather_json[\"city\"][\"name\"])\n",
    "      weather_dictionary[\"forecast_time\"].append(weather_json[\"list\"][i][\"dt_txt\"])\n",
    "      weather_dictionary[\"outlook\"].append(weather_json[\"list\"][i][\"weather\"][0][\"main\"])\n",
    "      weather_dictionary[\"description\"].append(weather_json[\"list\"][i][\"weather\"][0][\"description\"])\n",
    "      weather_dictionary[\"temperature\"].append(weather_json[\"list\"][i][\"main\"][\"temp\"])\n",
    "      weather_dictionary[\"feels_like\"].append(weather_json[\"list\"][i][\"main\"][\"feels_like\"])\n",
    "      weather_dictionary[\"temp_min\"].append(weather_json[\"list\"][i][\"main\"][\"temp_min\"])\n",
    "      weather_dictionary[\"temp_max\"].append(weather_json[\"list\"][i][\"main\"][\"temp_max\"])\n",
    "      weather_dictionary[\"wind_speed\"].append(weather_json[\"list\"][i][\"wind\"][\"speed\"])\n",
    "      weather_dictionary[\"rain_prob\"].append(weather_json[\"list\"][i][\"pop\"])\n",
    "      i += 1\n",
    "\n",
    "  weather_dict = pd.DataFrame(weather_dictionary)\n",
    "  weather_dict[\"forecast_time\"] = pd.to_datetime(weather_dict[\"forecast_time\"])\n",
    "\n",
    "  return (weather_dict)"
   ]
  },
  {
   "cell_type": "code",
   "execution_count": 13,
   "metadata": {},
   "outputs": [],
   "source": [
    "weather_df = weather_dataframe(list_of_cities)"
   ]
  },
  {
   "cell_type": "code",
   "execution_count": 14,
   "metadata": {},
   "outputs": [
    {
     "data": {
      "text/html": [
       "<div>\n",
       "<style scoped>\n",
       "    .dataframe tbody tr th:only-of-type {\n",
       "        vertical-align: middle;\n",
       "    }\n",
       "\n",
       "    .dataframe tbody tr th {\n",
       "        vertical-align: top;\n",
       "    }\n",
       "\n",
       "    .dataframe thead th {\n",
       "        text-align: right;\n",
       "    }\n",
       "</style>\n",
       "<table border=\"1\" class=\"dataframe\">\n",
       "  <thead>\n",
       "    <tr style=\"text-align: right;\">\n",
       "      <th></th>\n",
       "      <th>city_name</th>\n",
       "      <th>forecast_time</th>\n",
       "      <th>outlook</th>\n",
       "      <th>description</th>\n",
       "      <th>temperature</th>\n",
       "      <th>feels_like</th>\n",
       "      <th>temp_min</th>\n",
       "      <th>temp_max</th>\n",
       "      <th>wind_speed</th>\n",
       "      <th>rain_prob</th>\n",
       "    </tr>\n",
       "  </thead>\n",
       "  <tbody>\n",
       "    <tr>\n",
       "      <th>93</th>\n",
       "      <td>Munich</td>\n",
       "      <td>2024-12-10 09:00:00</td>\n",
       "      <td>Snow</td>\n",
       "      <td>light snow</td>\n",
       "      <td>0.83</td>\n",
       "      <td>-1.95</td>\n",
       "      <td>0.83</td>\n",
       "      <td>0.83</td>\n",
       "      <td>2.41</td>\n",
       "      <td>0.2</td>\n",
       "    </tr>\n",
       "    <tr>\n",
       "      <th>58</th>\n",
       "      <td>Hamburg</td>\n",
       "      <td>2024-12-11 03:00:00</td>\n",
       "      <td>Clouds</td>\n",
       "      <td>overcast clouds</td>\n",
       "      <td>1.57</td>\n",
       "      <td>-0.26</td>\n",
       "      <td>1.57</td>\n",
       "      <td>1.57</td>\n",
       "      <td>1.71</td>\n",
       "      <td>0.0</td>\n",
       "    </tr>\n",
       "    <tr>\n",
       "      <th>49</th>\n",
       "      <td>Hamburg</td>\n",
       "      <td>2024-12-10 00:00:00</td>\n",
       "      <td>Clouds</td>\n",
       "      <td>overcast clouds</td>\n",
       "      <td>5.54</td>\n",
       "      <td>1.84</td>\n",
       "      <td>5.54</td>\n",
       "      <td>5.54</td>\n",
       "      <td>5.39</td>\n",
       "      <td>0.0</td>\n",
       "    </tr>\n",
       "    <tr>\n",
       "      <th>64</th>\n",
       "      <td>Hamburg</td>\n",
       "      <td>2024-12-11 21:00:00</td>\n",
       "      <td>Clouds</td>\n",
       "      <td>overcast clouds</td>\n",
       "      <td>1.28</td>\n",
       "      <td>-1.00</td>\n",
       "      <td>1.28</td>\n",
       "      <td>1.28</td>\n",
       "      <td>2.03</td>\n",
       "      <td>0.0</td>\n",
       "    </tr>\n",
       "    <tr>\n",
       "      <th>72</th>\n",
       "      <td>Hamburg</td>\n",
       "      <td>2024-12-12 21:00:00</td>\n",
       "      <td>Clouds</td>\n",
       "      <td>overcast clouds</td>\n",
       "      <td>3.94</td>\n",
       "      <td>2.97</td>\n",
       "      <td>3.94</td>\n",
       "      <td>3.94</td>\n",
       "      <td>1.34</td>\n",
       "      <td>0.0</td>\n",
       "    </tr>\n",
       "  </tbody>\n",
       "</table>\n",
       "</div>"
      ],
      "text/plain": [
       "   city_name       forecast_time outlook      description  temperature  \\\n",
       "93    Munich 2024-12-10 09:00:00    Snow       light snow         0.83   \n",
       "58   Hamburg 2024-12-11 03:00:00  Clouds  overcast clouds         1.57   \n",
       "49   Hamburg 2024-12-10 00:00:00  Clouds  overcast clouds         5.54   \n",
       "64   Hamburg 2024-12-11 21:00:00  Clouds  overcast clouds         1.28   \n",
       "72   Hamburg 2024-12-12 21:00:00  Clouds  overcast clouds         3.94   \n",
       "\n",
       "    feels_like  temp_min  temp_max  wind_speed  rain_prob  \n",
       "93       -1.95      0.83      0.83        2.41        0.2  \n",
       "58       -0.26      1.57      1.57        1.71        0.0  \n",
       "49        1.84      5.54      5.54        5.39        0.0  \n",
       "64       -1.00      1.28      1.28        2.03        0.0  \n",
       "72        2.97      3.94      3.94        1.34        0.0  "
      ]
     },
     "execution_count": 14,
     "metadata": {},
     "output_type": "execute_result"
    }
   ],
   "source": [
    "weather_df.sample(5)"
   ]
  },
  {
   "cell_type": "code",
   "execution_count": 15,
   "metadata": {},
   "outputs": [
    {
     "name": "stdout",
     "output_type": "stream",
     "text": [
      "<class 'pandas.core.frame.DataFrame'>\n",
      "RangeIndex: 120 entries, 0 to 119\n",
      "Data columns (total 10 columns):\n",
      " #   Column         Non-Null Count  Dtype         \n",
      "---  ------         --------------  -----         \n",
      " 0   city_name      120 non-null    object        \n",
      " 1   forecast_time  120 non-null    datetime64[ns]\n",
      " 2   outlook        120 non-null    object        \n",
      " 3   description    120 non-null    object        \n",
      " 4   temperature    120 non-null    float64       \n",
      " 5   feels_like     120 non-null    float64       \n",
      " 6   temp_min       120 non-null    float64       \n",
      " 7   temp_max       120 non-null    float64       \n",
      " 8   wind_speed     120 non-null    float64       \n",
      " 9   rain_prob      120 non-null    float64       \n",
      "dtypes: datetime64[ns](1), float64(6), object(3)\n",
      "memory usage: 9.5+ KB\n"
     ]
    }
   ],
   "source": [
    "# Check the data type of all columns.\n",
    "weather_df.info()"
   ]
  },
  {
   "cell_type": "code",
   "execution_count": 16,
   "metadata": {},
   "outputs": [],
   "source": [
    "#city_mask1 = weather_df[\"city_name\"] == \"Altstadt\"\n",
    "#weather_df.loc[city_mask1, 'city_name'] = \"Munich\"\n",
    "\n",
    "#city_mask2 = weather_df[\"city_name\"] == \"Mitte\"\n",
    "#weather_df.loc[city_mask2, 'city_name'] = \"Berlin\""
   ]
  },
  {
   "cell_type": "markdown",
   "metadata": {},
   "source": [
    "### 2.2.&nbsp; Collect airports and flights data from [AeroDataBox API](https://rapidapi.com/aedbx-aedbx/api/aerodatabox/)."
   ]
  },
  {
   "cell_type": "markdown",
   "metadata": {},
   "source": [
    "#### 2.2.1.&nbsp; Accessing airports information\n",
    "We create a function to collect airports information based on the latitudes and longitudes from the cities dataframe:"
   ]
  },
  {
   "cell_type": "code",
   "execution_count": 17,
   "metadata": {},
   "outputs": [],
   "source": [
    "latitudes = list(cities_df.Latitude)\n",
    "longitudes = list(cities_df.Longitude)"
   ]
  },
  {
   "cell_type": "code",
   "execution_count": null,
   "metadata": {},
   "outputs": [],
   "source": [
    "from safe import API_key_AeroDataBox"
   ]
  },
  {
   "cell_type": "code",
   "execution_count": 18,
   "metadata": {},
   "outputs": [],
   "source": [
    "def icao_airport_codes(latitudes, longitudes):\n",
    "\n",
    "  #assert len(latitudes) == len(longitudes)\n",
    "\n",
    "  list_for_df = []\n",
    "\n",
    "  for index, value in enumerate(latitudes):\n",
    "\n",
    "    url = \"https://aerodatabox.p.rapidapi.com/airports/search/location\"\n",
    "    \n",
    "    querystring = {\"lat\":{value},\"lon\":{longitudes[index]},\"radiusKm\":\"95\",\"limit\":\"10\",\"withFlightInfoOnly\":\"true\"}\n",
    "\n",
    "    headers = {\n",
    "      \"X-RapidAPI-Host\": \"aerodatabox.p.rapidapi.com\",\n",
    "      \"X-RapidAPI-Key\": {API_key_AeroDataBox}\n",
    "    }\n",
    "\n",
    "    response = requests.request(\"GET\", url, headers=headers, params=querystring)\n",
    "\n",
    "    # Correctly access the 'items' key from the JSON response\n",
    "    items = response.json()['items']\n",
    "    list_for_df.append(pd.json_normalize(items))\n",
    "\n",
    "  airports = pd.concat(list_for_df, ignore_index=True)\n",
    "  airports = (airports\n",
    "            .drop(\n",
    "                columns=[\"iata\", \"shortName\", \"countryCode\", \"timeZone\", \"location.lat\", \"location.lon\"]\n",
    "                , axis=1)\n",
    "                )\n",
    "  airports = (airports\n",
    "              .rename(\n",
    "                columns={'icao': 'airport_icao', 'name': 'airport_name'}\n",
    "                )\n",
    "                )\n",
    "\n",
    "  return (airports)"
   ]
  },
  {
   "cell_type": "code",
   "execution_count": 19,
   "metadata": {},
   "outputs": [
    {
     "data": {
      "text/html": [
       "<div>\n",
       "<style scoped>\n",
       "    .dataframe tbody tr th:only-of-type {\n",
       "        vertical-align: middle;\n",
       "    }\n",
       "\n",
       "    .dataframe tbody tr th {\n",
       "        vertical-align: top;\n",
       "    }\n",
       "\n",
       "    .dataframe thead th {\n",
       "        text-align: right;\n",
       "    }\n",
       "</style>\n",
       "<table border=\"1\" class=\"dataframe\">\n",
       "  <thead>\n",
       "    <tr style=\"text-align: right;\">\n",
       "      <th></th>\n",
       "      <th>airport_icao</th>\n",
       "      <th>airport_name</th>\n",
       "      <th>municipalityName</th>\n",
       "    </tr>\n",
       "  </thead>\n",
       "  <tbody>\n",
       "    <tr>\n",
       "      <th>0</th>\n",
       "      <td>EDDB</td>\n",
       "      <td>Berlin Brandenburg</td>\n",
       "      <td>Berlin</td>\n",
       "    </tr>\n",
       "    <tr>\n",
       "      <th>1</th>\n",
       "      <td>EDDH</td>\n",
       "      <td>Hamburg</td>\n",
       "      <td>Hamburg</td>\n",
       "    </tr>\n",
       "    <tr>\n",
       "      <th>2</th>\n",
       "      <td>EDDM</td>\n",
       "      <td>Munich</td>\n",
       "      <td>Munich</td>\n",
       "    </tr>\n",
       "  </tbody>\n",
       "</table>\n",
       "</div>"
      ],
      "text/plain": [
       "  airport_icao        airport_name municipalityName\n",
       "0         EDDB  Berlin Brandenburg           Berlin\n",
       "1         EDDH            Hamburg           Hamburg\n",
       "2         EDDM             Munich            Munich"
      ]
     },
     "execution_count": 19,
     "metadata": {},
     "output_type": "execute_result"
    }
   ],
   "source": [
    "airports = icao_airport_codes(latitudes, longitudes)\n",
    "airports"
   ]
  },
  {
   "cell_type": "code",
   "execution_count": 20,
   "metadata": {},
   "outputs": [
    {
     "name": "stdout",
     "output_type": "stream",
     "text": [
      "<class 'pandas.core.frame.DataFrame'>\n",
      "RangeIndex: 3 entries, 0 to 2\n",
      "Data columns (total 3 columns):\n",
      " #   Column            Non-Null Count  Dtype \n",
      "---  ------            --------------  ----- \n",
      " 0   airport_icao      3 non-null      object\n",
      " 1   airport_name      3 non-null      object\n",
      " 2   municipalityName  3 non-null      object\n",
      "dtypes: object(3)\n",
      "memory usage: 204.0+ bytes\n"
     ]
    }
   ],
   "source": [
    "airports.info()"
   ]
  },
  {
   "cell_type": "markdown",
   "metadata": {},
   "source": [
    "#### 2.2.2.&nbsp; Accessing flights information\n",
    "We create a function to collect flights information based on the list of icao from the airports dataframe:"
   ]
  },
  {
   "cell_type": "code",
   "execution_count": 21,
   "metadata": {},
   "outputs": [],
   "source": [
    "icao_list = list(airports.airport_icao)"
   ]
  },
  {
   "cell_type": "code",
   "execution_count": 22,
   "metadata": {},
   "outputs": [
    {
     "data": {
      "text/plain": [
       "['EDDB', 'EDDH', 'EDDM']"
      ]
     },
     "execution_count": 22,
     "metadata": {},
     "output_type": "execute_result"
    }
   ],
   "source": [
    "icao_list"
   ]
  },
  {
   "cell_type": "code",
   "execution_count": 23,
   "metadata": {},
   "outputs": [],
   "source": [
    "def flight_dataframe(icao_list):\n",
    "    \n",
    "    # Create an empty list for each of the values.\n",
    "    flight_dict_items = []\n",
    "\n",
    "    # Get the icao of the desired airports\n",
    "    for icaos in icao_list:\n",
    "        url = f\"https://aerodatabox.p.rapidapi.com/flights/airports/icao/{icaos}/2024-12-04T08:00/2024-12-04T20:00\"\n",
    "        querystring = {\"withLeg\":\"false\",\"direction\":\"Arrival\",\"withCancelled\":\"false\",\"withCodeshared\":\"true\",\"withCargo\":\"false\",\"withPrivate\":\"false\",\"withLocation\":\"false\"}\n",
    "        headers = {\n",
    "            \"x-rapidapi-key\": {API_key_AeroDataBox},\n",
    "            \"x-rapidapi-host\": \"aerodatabox.p.rapidapi.com\"\n",
    "            }\n",
    "        response = requests.get(url, headers=headers, params=querystring)\n",
    "        flight_json = response.json()\n",
    "\n",
    "        for item in flight_json[\"arrivals\"]:\n",
    "            flight_dict_item = {\n",
    "                \"icao\": icaos,\n",
    "                \"icao_arrival\": item[\"movement\"][\"airport\"].get(\"icao\", None),\n",
    "                \"arrival_local_time\": item[\"movement\"][\"scheduledTime\"].get(\"local\", None),\n",
    "                \"arrival_utc_time\": item[\"movement\"][\"scheduledTime\"].get(\"utc\", None),\n",
    "                \"revised_local_time\": item[\"movement\"].get(\"revisedTime\", {}).get(\"local\", 0),\n",
    "                \"revised_utc_time\": item[\"movement\"].get(\"revisedTime\", {}).get(\"utc\", 0),\n",
    "                \"flight_number\": item.get(\"number\", None),\n",
    "                \"flight_status\": item.get(\"status\", None),\n",
    "                \"airline_name\": item[\"airline\"].get(\"name\", None),\n",
    "                }\n",
    "            \n",
    "            flight_dict_items.append(flight_dict_item)\n",
    "        \n",
    "    flight_dict_df = pd.DataFrame(flight_dict_items)\n",
    "    flight_dict_df[\"arrival_local_time\"] = pd.to_datetime(flight_dict_df[\"arrival_local_time\"])\n",
    "    # Remove the timezone\n",
    "    flight_dict_df[\"arrival_local_time\"] = flight_dict_df[\"arrival_local_time\"].dt.tz_localize(None)\n",
    "    # Add missing seconds before conversion\n",
    "    flight_dict_df[\"revised_local_time\"] = (flight_dict_df[\"revised_local_time\"]\n",
    "                                           .str\n",
    "                                           .replace(r\"(?<=\\d{2}:\\d{2})(?=\\+)\", \":00\", regex=True)\n",
    "                                           )\n",
    "    # Convert to datetime\n",
    "    flight_dict_df[\"revised_local_time\"] = pd.to_datetime(flight_dict_df[\"revised_local_time\"])\n",
    "    # Remove the timezone\n",
    "    flight_dict_df[\"revised_local_time\"] = flight_dict_df[\"revised_local_time\"].dt.tz_localize(None)\n",
    "    #we can remove some columns if we don't need them\n",
    "    flight_dict_df = (flight_dict_df\n",
    "                      .drop(\n",
    "                          columns=[\"arrival_utc_time\",\"revised_utc_time\",\"airline_name\"]\n",
    "                          )\n",
    "                          )\n",
    "\n",
    "    return (flight_dict_df)"
   ]
  },
  {
   "cell_type": "code",
   "execution_count": 24,
   "metadata": {},
   "outputs": [],
   "source": [
    "flight_df = flight_dataframe(icao_list)"
   ]
  },
  {
   "cell_type": "code",
   "execution_count": 25,
   "metadata": {},
   "outputs": [
    {
     "data": {
      "text/html": [
       "<div>\n",
       "<style scoped>\n",
       "    .dataframe tbody tr th:only-of-type {\n",
       "        vertical-align: middle;\n",
       "    }\n",
       "\n",
       "    .dataframe tbody tr th {\n",
       "        vertical-align: top;\n",
       "    }\n",
       "\n",
       "    .dataframe thead th {\n",
       "        text-align: right;\n",
       "    }\n",
       "</style>\n",
       "<table border=\"1\" class=\"dataframe\">\n",
       "  <thead>\n",
       "    <tr style=\"text-align: right;\">\n",
       "      <th></th>\n",
       "      <th>icao</th>\n",
       "      <th>icao_arrival</th>\n",
       "      <th>arrival_local_time</th>\n",
       "      <th>revised_local_time</th>\n",
       "      <th>flight_number</th>\n",
       "      <th>flight_status</th>\n",
       "    </tr>\n",
       "  </thead>\n",
       "  <tbody>\n",
       "    <tr>\n",
       "      <th>503</th>\n",
       "      <td>EDDM</td>\n",
       "      <td>EDDV</td>\n",
       "      <td>2024-12-04 18:20:00</td>\n",
       "      <td>2024-12-04 18:05:00</td>\n",
       "      <td>VL 2101</td>\n",
       "      <td>Arrived</td>\n",
       "    </tr>\n",
       "    <tr>\n",
       "      <th>421</th>\n",
       "      <td>EDDM</td>\n",
       "      <td>LSZH</td>\n",
       "      <td>2024-12-04 14:30:00</td>\n",
       "      <td>2024-12-04 14:35:00</td>\n",
       "      <td>LH 2369</td>\n",
       "      <td>Arrived</td>\n",
       "    </tr>\n",
       "    <tr>\n",
       "      <th>1</th>\n",
       "      <td>EDDB</td>\n",
       "      <td>EDDR</td>\n",
       "      <td>2024-12-04 08:05:00</td>\n",
       "      <td>2024-12-04 08:11:00</td>\n",
       "      <td>DX 121</td>\n",
       "      <td>Arrived</td>\n",
       "    </tr>\n",
       "  </tbody>\n",
       "</table>\n",
       "</div>"
      ],
      "text/plain": [
       "     icao icao_arrival  arrival_local_time  revised_local_time flight_number  \\\n",
       "503  EDDM         EDDV 2024-12-04 18:20:00 2024-12-04 18:05:00       VL 2101   \n",
       "421  EDDM         LSZH 2024-12-04 14:30:00 2024-12-04 14:35:00       LH 2369   \n",
       "1    EDDB         EDDR 2024-12-04 08:05:00 2024-12-04 08:11:00        DX 121   \n",
       "\n",
       "    flight_status  \n",
       "503       Arrived  \n",
       "421       Arrived  \n",
       "1         Arrived  "
      ]
     },
     "execution_count": 25,
     "metadata": {},
     "output_type": "execute_result"
    }
   ],
   "source": [
    "flight_df.sample(3)"
   ]
  },
  {
   "cell_type": "code",
   "execution_count": 26,
   "metadata": {},
   "outputs": [
    {
     "name": "stdout",
     "output_type": "stream",
     "text": [
      "<class 'pandas.core.frame.DataFrame'>\n",
      "RangeIndex: 566 entries, 0 to 565\n",
      "Data columns (total 6 columns):\n",
      " #   Column              Non-Null Count  Dtype         \n",
      "---  ------              --------------  -----         \n",
      " 0   icao                566 non-null    object        \n",
      " 1   icao_arrival        558 non-null    object        \n",
      " 2   arrival_local_time  566 non-null    datetime64[ns]\n",
      " 3   revised_local_time  566 non-null    datetime64[ns]\n",
      " 4   flight_number       566 non-null    object        \n",
      " 5   flight_status       566 non-null    object        \n",
      "dtypes: datetime64[ns](2), object(4)\n",
      "memory usage: 26.7+ KB\n"
     ]
    }
   ],
   "source": [
    "flight_df.info()"
   ]
  },
  {
   "cell_type": "markdown",
   "metadata": {},
   "source": [
    "---\n",
    "## 3.&nbsp; Sending & retrieving the information from this notebook to sql and from sql to this notebook\n",
    "To establish a connection with the SQL database, we need to provide the notebook with the necessary information, which we do using the connection string below. You will need to modify only the password variable, which should match the password you set during MySQL Workbench installation."
   ]
  },
  {
   "cell_type": "code",
   "execution_count": 27,
   "metadata": {},
   "outputs": [],
   "source": [
    "# Save your password in a .py file called safe.\n",
    "from safe import sql_password"
   ]
  },
  {
   "cell_type": "code",
   "execution_count": 28,
   "metadata": {},
   "outputs": [],
   "source": [
    "schema = \"CityDatabase\"\n",
    "host = \"127.0.0.1\"\n",
    "user = \"root\"\n",
    "password = sql_password\n",
    "port = 3306\n",
    "\n",
    "connection_string = f'mysql+pymysql://{user}:{password}@{host}:{port}/{schema}'"
   ]
  },
  {
   "cell_type": "markdown",
   "metadata": {},
   "source": [
    "### 3.1.&nbsp; cities_df"
   ]
  },
  {
   "cell_type": "markdown",
   "metadata": {},
   "source": [
    "#### 3.1.1.&nbsp; Create \"cities_info\" table in the database"
   ]
  },
  {
   "cell_type": "markdown",
   "metadata": {},
   "source": [
    "```sql\n",
    "CREATE TABLE cities_info (\n",
    "\tcity_id INT AUTO_INCREMENT, -- Automatically generated ID for each city\n",
    "    City VARCHAR(255) NOT NULL, -- Name of the city\n",
    "    Country VARCHAR(255) NOT NULL, -- Name of the Country\n",
    "    Latitude DECIMAL(6,4), -- Latitude of the city\n",
    "    Longitude DECIMAL(5,3), -- Longitude of the city\n",
    "    PRIMARY KEY (city_id) -- Primary key to uniquely identify each city\n",
    ");\n",
    "```"
   ]
  },
  {
   "cell_type": "markdown",
   "metadata": {},
   "source": [
    "#### 3.1.2.&nbsp; Push the \"cities_df\" to the empty \"cities_info\" table in the database"
   ]
  },
  {
   "cell_type": "code",
   "execution_count": null,
   "metadata": {},
   "outputs": [],
   "source": [
    "cities_df.to_sql('cities_info',\n",
    "                 if_exists='append',\n",
    "                  con=connection_string,\n",
    "                  index=False)"
   ]
  },
  {
   "cell_type": "markdown",
   "metadata": {},
   "source": [
    "#### 3.1.3.&nbsp; Retrieving the information from sql to this notebook"
   ]
  },
  {
   "cell_type": "code",
   "execution_count": 29,
   "metadata": {},
   "outputs": [
    {
     "data": {
      "text/html": [
       "<div>\n",
       "<style scoped>\n",
       "    .dataframe tbody tr th:only-of-type {\n",
       "        vertical-align: middle;\n",
       "    }\n",
       "\n",
       "    .dataframe tbody tr th {\n",
       "        vertical-align: top;\n",
       "    }\n",
       "\n",
       "    .dataframe thead th {\n",
       "        text-align: right;\n",
       "    }\n",
       "</style>\n",
       "<table border=\"1\" class=\"dataframe\">\n",
       "  <thead>\n",
       "    <tr style=\"text-align: right;\">\n",
       "      <th></th>\n",
       "      <th>city_id</th>\n",
       "      <th>City</th>\n",
       "      <th>Country</th>\n",
       "      <th>Latitude</th>\n",
       "      <th>Longitude</th>\n",
       "    </tr>\n",
       "  </thead>\n",
       "  <tbody>\n",
       "    <tr>\n",
       "      <th>0</th>\n",
       "      <td>1</td>\n",
       "      <td>Berlin</td>\n",
       "      <td>Germany</td>\n",
       "      <td>52.5200</td>\n",
       "      <td>13.405</td>\n",
       "    </tr>\n",
       "    <tr>\n",
       "      <th>1</th>\n",
       "      <td>2</td>\n",
       "      <td>Hamburg</td>\n",
       "      <td>Germany</td>\n",
       "      <td>53.5500</td>\n",
       "      <td>10.000</td>\n",
       "    </tr>\n",
       "    <tr>\n",
       "      <th>2</th>\n",
       "      <td>3</td>\n",
       "      <td>Munich</td>\n",
       "      <td>Germany</td>\n",
       "      <td>48.1375</td>\n",
       "      <td>11.575</td>\n",
       "    </tr>\n",
       "  </tbody>\n",
       "</table>\n",
       "</div>"
      ],
      "text/plain": [
       "   city_id     City  Country  Latitude  Longitude\n",
       "0        1   Berlin  Germany   52.5200     13.405\n",
       "1        2  Hamburg  Germany   53.5500     10.000\n",
       "2        3   Munich  Germany   48.1375     11.575"
      ]
     },
     "execution_count": 29,
     "metadata": {},
     "output_type": "execute_result"
    }
   ],
   "source": [
    "city_info_from_sql = pd.read_sql(\"cities_info\", con=connection_string)\n",
    "city_info_from_sql"
   ]
  },
  {
   "cell_type": "markdown",
   "metadata": {},
   "source": [
    "### 3.2.&nbsp; population_df"
   ]
  },
  {
   "cell_type": "markdown",
   "metadata": {},
   "source": [
    "#### 3.2.1.&nbsp; Preparing the population table\n",
    "By extracting the cities_info table from our SQL database, we gain access to the unique identifier `city_id` assigned to each city. These `city_id`'s serve as pointers to their corresponding city records, allowing us to seamlessly link the `city_id`'s in the cities_info to their respective city in the population table, thereby completing the population table."
   ]
  },
  {
   "cell_type": "code",
   "execution_count": 50,
   "metadata": {},
   "outputs": [
    {
     "data": {
      "text/html": [
       "<div>\n",
       "<style scoped>\n",
       "    .dataframe tbody tr th:only-of-type {\n",
       "        vertical-align: middle;\n",
       "    }\n",
       "\n",
       "    .dataframe tbody tr th {\n",
       "        vertical-align: top;\n",
       "    }\n",
       "\n",
       "    .dataframe thead th {\n",
       "        text-align: right;\n",
       "    }\n",
       "</style>\n",
       "<table border=\"1\" class=\"dataframe\">\n",
       "  <thead>\n",
       "    <tr style=\"text-align: right;\">\n",
       "      <th></th>\n",
       "      <th>City</th>\n",
       "      <th>Population</th>\n",
       "      <th>Timestamp_Population</th>\n",
       "      <th>city_id</th>\n",
       "      <th>Country</th>\n",
       "      <th>Latitude</th>\n",
       "      <th>Longitude</th>\n",
       "    </tr>\n",
       "  </thead>\n",
       "  <tbody>\n",
       "    <tr>\n",
       "      <th>0</th>\n",
       "      <td>Berlin</td>\n",
       "      <td>3878100</td>\n",
       "      <td>2024-12-05</td>\n",
       "      <td>1</td>\n",
       "      <td>Germany</td>\n",
       "      <td>52.5200</td>\n",
       "      <td>13.405</td>\n",
       "    </tr>\n",
       "    <tr>\n",
       "      <th>1</th>\n",
       "      <td>Hamburg</td>\n",
       "      <td>1964021</td>\n",
       "      <td>2024-12-05</td>\n",
       "      <td>2</td>\n",
       "      <td>Germany</td>\n",
       "      <td>53.5500</td>\n",
       "      <td>10.000</td>\n",
       "    </tr>\n",
       "    <tr>\n",
       "      <th>2</th>\n",
       "      <td>Munich</td>\n",
       "      <td>1510378</td>\n",
       "      <td>2024-12-05</td>\n",
       "      <td>3</td>\n",
       "      <td>Germany</td>\n",
       "      <td>48.1375</td>\n",
       "      <td>11.575</td>\n",
       "    </tr>\n",
       "  </tbody>\n",
       "</table>\n",
       "</div>"
      ],
      "text/plain": [
       "      City  Population Timestamp_Population  city_id  Country  Latitude  \\\n",
       "0   Berlin     3878100           2024-12-05        1  Germany   52.5200   \n",
       "1  Hamburg     1964021           2024-12-05        2  Germany   53.5500   \n",
       "2   Munich     1510378           2024-12-05        3  Germany   48.1375   \n",
       "\n",
       "   Longitude  \n",
       "0     13.405  \n",
       "1     10.000  \n",
       "2     11.575  "
      ]
     },
     "execution_count": 50,
     "metadata": {},
     "output_type": "execute_result"
    }
   ],
   "source": [
    "population_city_df = population_df.merge(city_info_from_sql,\n",
    "                                   on = \"City\",\n",
    "                                   how=\"left\")\n",
    "\n",
    "population_city_df"
   ]
  },
  {
   "cell_type": "code",
   "execution_count": 51,
   "metadata": {},
   "outputs": [],
   "source": [
    "population_city_df = (population_city_df\n",
    "                      .drop(\n",
    "                          columns=[\"City\",\"Country\",\"Latitude\",\"Longitude\"]\n",
    "                          )\n",
    "                          )"
   ]
  },
  {
   "cell_type": "code",
   "execution_count": 52,
   "metadata": {},
   "outputs": [],
   "source": [
    "population_city_df = population_city_df[[population_city_df.columns[-1]] + list(population_city_df.columns[:-1])]"
   ]
  },
  {
   "cell_type": "code",
   "execution_count": 53,
   "metadata": {},
   "outputs": [
    {
     "data": {
      "text/html": [
       "<div>\n",
       "<style scoped>\n",
       "    .dataframe tbody tr th:only-of-type {\n",
       "        vertical-align: middle;\n",
       "    }\n",
       "\n",
       "    .dataframe tbody tr th {\n",
       "        vertical-align: top;\n",
       "    }\n",
       "\n",
       "    .dataframe thead th {\n",
       "        text-align: right;\n",
       "    }\n",
       "</style>\n",
       "<table border=\"1\" class=\"dataframe\">\n",
       "  <thead>\n",
       "    <tr style=\"text-align: right;\">\n",
       "      <th></th>\n",
       "      <th>city_id</th>\n",
       "      <th>Population</th>\n",
       "      <th>Timestamp_Population</th>\n",
       "    </tr>\n",
       "  </thead>\n",
       "  <tbody>\n",
       "    <tr>\n",
       "      <th>0</th>\n",
       "      <td>1</td>\n",
       "      <td>3878100</td>\n",
       "      <td>2024-12-05</td>\n",
       "    </tr>\n",
       "    <tr>\n",
       "      <th>1</th>\n",
       "      <td>2</td>\n",
       "      <td>1964021</td>\n",
       "      <td>2024-12-05</td>\n",
       "    </tr>\n",
       "    <tr>\n",
       "      <th>2</th>\n",
       "      <td>3</td>\n",
       "      <td>1510378</td>\n",
       "      <td>2024-12-05</td>\n",
       "    </tr>\n",
       "  </tbody>\n",
       "</table>\n",
       "</div>"
      ],
      "text/plain": [
       "   city_id  Population Timestamp_Population\n",
       "0        1     3878100           2024-12-05\n",
       "1        2     1964021           2024-12-05\n",
       "2        3     1510378           2024-12-05"
      ]
     },
     "execution_count": 53,
     "metadata": {},
     "output_type": "execute_result"
    }
   ],
   "source": [
    "population_city_df"
   ]
  },
  {
   "cell_type": "code",
   "execution_count": 54,
   "metadata": {},
   "outputs": [
    {
     "name": "stdout",
     "output_type": "stream",
     "text": [
      "<class 'pandas.core.frame.DataFrame'>\n",
      "RangeIndex: 3 entries, 0 to 2\n",
      "Data columns (total 3 columns):\n",
      " #   Column                Non-Null Count  Dtype         \n",
      "---  ------                --------------  -----         \n",
      " 0   city_id               3 non-null      int64         \n",
      " 1   Population            3 non-null      int64         \n",
      " 2   Timestamp_Population  3 non-null      datetime64[ns]\n",
      "dtypes: datetime64[ns](1), int64(2)\n",
      "memory usage: 204.0 bytes\n"
     ]
    }
   ],
   "source": [
    "population_city_df.info()"
   ]
  },
  {
   "cell_type": "markdown",
   "metadata": {},
   "source": [
    "#### 3.2.2.&nbsp; Create \"cities_population\" table in the database"
   ]
  },
  {
   "cell_type": "markdown",
   "metadata": {},
   "source": [
    "```sql\n",
    "CREATE TABLE cities_population (\n",
    "\tcity_id INT, -- ID of the cities \n",
    "    population_id INT AUTO_INCREMENT, -- Automatically generated ID for each row\n",
    "    Population INT NOT NULL, -- Population of the city\n",
    "    Timestamp_Population DATE, -- Time the population is stored\n",
    "    PRIMARY KEY (population_id),\n",
    "    FOREIGN KEY (city_id) REFERENCES cities_info(city_id) -- Foreign key to connect each city to its population\n",
    ");\n",
    "```"
   ]
  },
  {
   "cell_type": "markdown",
   "metadata": {},
   "source": [
    "#### 3.2.3.&nbsp; Push the \"population_city_df\" to the empty \"cities_population\" table in the database"
   ]
  },
  {
   "cell_type": "code",
   "execution_count": null,
   "metadata": {},
   "outputs": [],
   "source": [
    "population_city_df.to_sql('cities_population',\n",
    "                if_exists='append',\n",
    "                con=connection_string,\n",
    "                index=False)"
   ]
  },
  {
   "cell_type": "markdown",
   "metadata": {},
   "source": [
    "#### 3.2.4.&nbsp; Retrieving the information from sql to this notebook"
   ]
  },
  {
   "cell_type": "code",
   "execution_count": null,
   "metadata": {},
   "outputs": [
    {
     "data": {
      "text/html": [
       "<div>\n",
       "<style scoped>\n",
       "    .dataframe tbody tr th:only-of-type {\n",
       "        vertical-align: middle;\n",
       "    }\n",
       "\n",
       "    .dataframe tbody tr th {\n",
       "        vertical-align: top;\n",
       "    }\n",
       "\n",
       "    .dataframe thead th {\n",
       "        text-align: right;\n",
       "    }\n",
       "</style>\n",
       "<table border=\"1\" class=\"dataframe\">\n",
       "  <thead>\n",
       "    <tr style=\"text-align: right;\">\n",
       "      <th></th>\n",
       "      <th>city_id</th>\n",
       "      <th>population_id</th>\n",
       "      <th>Population</th>\n",
       "      <th>Timestamp_Population</th>\n",
       "    </tr>\n",
       "  </thead>\n",
       "  <tbody>\n",
       "    <tr>\n",
       "      <th>0</th>\n",
       "      <td>1</td>\n",
       "      <td>1</td>\n",
       "      <td>3878100</td>\n",
       "      <td>2024-12-04</td>\n",
       "    </tr>\n",
       "    <tr>\n",
       "      <th>1</th>\n",
       "      <td>2</td>\n",
       "      <td>2</td>\n",
       "      <td>1964021</td>\n",
       "      <td>2024-12-04</td>\n",
       "    </tr>\n",
       "    <tr>\n",
       "      <th>2</th>\n",
       "      <td>3</td>\n",
       "      <td>3</td>\n",
       "      <td>1510378</td>\n",
       "      <td>2024-12-04</td>\n",
       "    </tr>\n",
       "  </tbody>\n",
       "</table>\n",
       "</div>"
      ],
      "text/plain": [
       "   city_id  population_id  Population Timestamp_Population\n",
       "0        1              1     3878100           2024-12-04\n",
       "1        2              2     1964021           2024-12-04\n",
       "2        3              3     1510378           2024-12-04"
      ]
     },
     "execution_count": 32,
     "metadata": {},
     "output_type": "execute_result"
    }
   ],
   "source": [
    "population_city_from_sql = pd.read_sql(\"cities_population\", con=connection_string)\n",
    "population_city_from_sql"
   ]
  },
  {
   "cell_type": "markdown",
   "metadata": {},
   "source": [
    "### 3.3.&nbsp; weather_df"
   ]
  },
  {
   "cell_type": "markdown",
   "metadata": {},
   "source": [
    "#### 3.3.1.&nbsp; Preparing the population table"
   ]
  },
  {
   "cell_type": "code",
   "execution_count": 101,
   "metadata": {},
   "outputs": [
    {
     "data": {
      "text/html": [
       "<div>\n",
       "<style scoped>\n",
       "    .dataframe tbody tr th:only-of-type {\n",
       "        vertical-align: middle;\n",
       "    }\n",
       "\n",
       "    .dataframe tbody tr th {\n",
       "        vertical-align: top;\n",
       "    }\n",
       "\n",
       "    .dataframe thead th {\n",
       "        text-align: right;\n",
       "    }\n",
       "</style>\n",
       "<table border=\"1\" class=\"dataframe\">\n",
       "  <thead>\n",
       "    <tr style=\"text-align: right;\">\n",
       "      <th></th>\n",
       "      <th>city_name</th>\n",
       "      <th>forecast_time</th>\n",
       "      <th>outlook</th>\n",
       "      <th>description</th>\n",
       "      <th>temperature</th>\n",
       "      <th>feels_like</th>\n",
       "      <th>temp_min</th>\n",
       "      <th>temp_max</th>\n",
       "      <th>wind_speed</th>\n",
       "      <th>rain_prob</th>\n",
       "      <th>city_id</th>\n",
       "      <th>City</th>\n",
       "      <th>Country</th>\n",
       "      <th>Latitude</th>\n",
       "      <th>Longitude</th>\n",
       "    </tr>\n",
       "  </thead>\n",
       "  <tbody>\n",
       "    <tr>\n",
       "      <th>30</th>\n",
       "      <td>Berlin</td>\n",
       "      <td>2024-12-08 06:00:00</td>\n",
       "      <td>Clouds</td>\n",
       "      <td>overcast clouds</td>\n",
       "      <td>5.49</td>\n",
       "      <td>1.91</td>\n",
       "      <td>5.49</td>\n",
       "      <td>5.49</td>\n",
       "      <td>5.08</td>\n",
       "      <td>0.00</td>\n",
       "      <td>1</td>\n",
       "      <td>Berlin</td>\n",
       "      <td>Germany</td>\n",
       "      <td>52.5200</td>\n",
       "      <td>13.405</td>\n",
       "    </tr>\n",
       "    <tr>\n",
       "      <th>72</th>\n",
       "      <td>Hamburg</td>\n",
       "      <td>2024-12-08 12:00:00</td>\n",
       "      <td>Rain</td>\n",
       "      <td>light rain</td>\n",
       "      <td>5.09</td>\n",
       "      <td>2.52</td>\n",
       "      <td>5.09</td>\n",
       "      <td>5.09</td>\n",
       "      <td>3.13</td>\n",
       "      <td>0.95</td>\n",
       "      <td>2</td>\n",
       "      <td>Hamburg</td>\n",
       "      <td>Germany</td>\n",
       "      <td>53.5500</td>\n",
       "      <td>10.000</td>\n",
       "    </tr>\n",
       "    <tr>\n",
       "      <th>101</th>\n",
       "      <td>Munich</td>\n",
       "      <td>2024-12-07 03:00:00</td>\n",
       "      <td>Clouds</td>\n",
       "      <td>overcast clouds</td>\n",
       "      <td>4.61</td>\n",
       "      <td>2.96</td>\n",
       "      <td>4.61</td>\n",
       "      <td>4.61</td>\n",
       "      <td>1.96</td>\n",
       "      <td>0.00</td>\n",
       "      <td>3</td>\n",
       "      <td>Munich</td>\n",
       "      <td>Germany</td>\n",
       "      <td>48.1375</td>\n",
       "      <td>11.575</td>\n",
       "    </tr>\n",
       "  </tbody>\n",
       "</table>\n",
       "</div>"
      ],
      "text/plain": [
       "    city_name       forecast_time outlook      description  temperature  \\\n",
       "30     Berlin 2024-12-08 06:00:00  Clouds  overcast clouds         5.49   \n",
       "72    Hamburg 2024-12-08 12:00:00    Rain       light rain         5.09   \n",
       "101    Munich 2024-12-07 03:00:00  Clouds  overcast clouds         4.61   \n",
       "\n",
       "     feels_like  temp_min  temp_max  wind_speed  rain_prob  city_id     City  \\\n",
       "30         1.91      5.49      5.49        5.08       0.00        1   Berlin   \n",
       "72         2.52      5.09      5.09        3.13       0.95        2  Hamburg   \n",
       "101        2.96      4.61      4.61        1.96       0.00        3   Munich   \n",
       "\n",
       "     Country  Latitude  Longitude  \n",
       "30   Germany   52.5200     13.405  \n",
       "72   Germany   53.5500     10.000  \n",
       "101  Germany   48.1375     11.575  "
      ]
     },
     "execution_count": 101,
     "metadata": {},
     "output_type": "execute_result"
    }
   ],
   "source": [
    "weather_city_df = weather_df.merge(city_info_from_sql,\n",
    "                                   left_on='city_name',\n",
    "                                   right_on='City',\n",
    "                                   how=\"left\")\n",
    "\n",
    "weather_city_df.sample(3)"
   ]
  },
  {
   "cell_type": "code",
   "execution_count": null,
   "metadata": {},
   "outputs": [],
   "source": [
    "weather_city_df = (weather_city_df\n",
    "                      .drop(\n",
    "                          columns=[\"city_name\",\"City\",\"Country\",\"Latitude\",\"Longitude\"]\n",
    "                          )\n",
    "                          )"
   ]
  },
  {
   "cell_type": "code",
   "execution_count": 103,
   "metadata": {},
   "outputs": [],
   "source": [
    "# Move the last column to the first position\n",
    "weather_city_df = weather_city_df[[weather_city_df.columns[-1]] + list(weather_city_df.columns[:-1])]"
   ]
  },
  {
   "cell_type": "code",
   "execution_count": 104,
   "metadata": {},
   "outputs": [
    {
     "data": {
      "text/html": [
       "<div>\n",
       "<style scoped>\n",
       "    .dataframe tbody tr th:only-of-type {\n",
       "        vertical-align: middle;\n",
       "    }\n",
       "\n",
       "    .dataframe tbody tr th {\n",
       "        vertical-align: top;\n",
       "    }\n",
       "\n",
       "    .dataframe thead th {\n",
       "        text-align: right;\n",
       "    }\n",
       "</style>\n",
       "<table border=\"1\" class=\"dataframe\">\n",
       "  <thead>\n",
       "    <tr style=\"text-align: right;\">\n",
       "      <th></th>\n",
       "      <th>city_id</th>\n",
       "      <th>forecast_time</th>\n",
       "      <th>outlook</th>\n",
       "      <th>description</th>\n",
       "      <th>temperature</th>\n",
       "      <th>feels_like</th>\n",
       "      <th>temp_min</th>\n",
       "      <th>temp_max</th>\n",
       "      <th>wind_speed</th>\n",
       "      <th>rain_prob</th>\n",
       "    </tr>\n",
       "  </thead>\n",
       "  <tbody>\n",
       "    <tr>\n",
       "      <th>56</th>\n",
       "      <td>2</td>\n",
       "      <td>2024-12-06 12:00:00</td>\n",
       "      <td>Rain</td>\n",
       "      <td>moderate rain</td>\n",
       "      <td>7.80</td>\n",
       "      <td>4.44</td>\n",
       "      <td>7.80</td>\n",
       "      <td>7.80</td>\n",
       "      <td>6.02</td>\n",
       "      <td>1.00</td>\n",
       "    </tr>\n",
       "    <tr>\n",
       "      <th>81</th>\n",
       "      <td>3</td>\n",
       "      <td>2024-12-04 15:00:00</td>\n",
       "      <td>Snow</td>\n",
       "      <td>light snow</td>\n",
       "      <td>2.89</td>\n",
       "      <td>1.42</td>\n",
       "      <td>2.44</td>\n",
       "      <td>2.89</td>\n",
       "      <td>1.59</td>\n",
       "      <td>0.81</td>\n",
       "    </tr>\n",
       "    <tr>\n",
       "      <th>45</th>\n",
       "      <td>2</td>\n",
       "      <td>2024-12-05 03:00:00</td>\n",
       "      <td>Clouds</td>\n",
       "      <td>overcast clouds</td>\n",
       "      <td>1.95</td>\n",
       "      <td>-0.80</td>\n",
       "      <td>1.95</td>\n",
       "      <td>1.95</td>\n",
       "      <td>2.59</td>\n",
       "      <td>0.00</td>\n",
       "    </tr>\n",
       "  </tbody>\n",
       "</table>\n",
       "</div>"
      ],
      "text/plain": [
       "    city_id       forecast_time outlook      description  temperature  \\\n",
       "56        2 2024-12-06 12:00:00    Rain    moderate rain         7.80   \n",
       "81        3 2024-12-04 15:00:00    Snow       light snow         2.89   \n",
       "45        2 2024-12-05 03:00:00  Clouds  overcast clouds         1.95   \n",
       "\n",
       "    feels_like  temp_min  temp_max  wind_speed  rain_prob  \n",
       "56        4.44      7.80      7.80        6.02       1.00  \n",
       "81        1.42      2.44      2.89        1.59       0.81  \n",
       "45       -0.80      1.95      1.95        2.59       0.00  "
      ]
     },
     "execution_count": 104,
     "metadata": {},
     "output_type": "execute_result"
    }
   ],
   "source": [
    "weather_city_df.sample(3)"
   ]
  },
  {
   "cell_type": "code",
   "execution_count": 105,
   "metadata": {},
   "outputs": [
    {
     "name": "stdout",
     "output_type": "stream",
     "text": [
      "<class 'pandas.core.frame.DataFrame'>\n",
      "RangeIndex: 120 entries, 0 to 119\n",
      "Data columns (total 10 columns):\n",
      " #   Column         Non-Null Count  Dtype         \n",
      "---  ------         --------------  -----         \n",
      " 0   city_id        120 non-null    int64         \n",
      " 1   forecast_time  120 non-null    datetime64[ns]\n",
      " 2   outlook        120 non-null    object        \n",
      " 3   description    120 non-null    object        \n",
      " 4   temperature    120 non-null    float64       \n",
      " 5   feels_like     120 non-null    float64       \n",
      " 6   temp_min       120 non-null    float64       \n",
      " 7   temp_max       120 non-null    float64       \n",
      " 8   wind_speed     120 non-null    float64       \n",
      " 9   rain_prob      120 non-null    float64       \n",
      "dtypes: datetime64[ns](1), float64(6), int64(1), object(2)\n",
      "memory usage: 9.5+ KB\n"
     ]
    }
   ],
   "source": [
    "weather_city_df.info()"
   ]
  },
  {
   "cell_type": "markdown",
   "metadata": {},
   "source": [
    "#### 3.3.2.&nbsp; Create \"cities_weather\" table in the database"
   ]
  },
  {
   "cell_type": "markdown",
   "metadata": {},
   "source": [
    "```sql\n",
    "CREATE TABLE cities_weather (\n",
    "\tweather_id INT AUTO_INCREMENT, -- Automatically generated ID for each row\n",
    "    city_id INT NOT NULL, -- Adding the ID for each city\n",
    "    forecast_time datetime, \n",
    "    outlook VARCHAR(255),\n",
    "    descriptions VARCHAR(255),\n",
    "    temperature DECIMAL(4,2),\n",
    "    feels_like DECIMAL(4,2), \n",
    "    temp_min DECIMAL(4,2),\n",
    "    temp_max DECIMAL(4,2),\n",
    "    wind_speed DECIMAL(4,2),\n",
    "    rain_prob DECIMAL(4,2),\n",
    "    PRIMARY KEY (weather_id),\n",
    "    FOREIGN KEY (city_id) REFERENCES cities_info(city_id) -- Foreign key to connect each city to its weather\n",
    ");\n",
    "```"
   ]
  },
  {
   "cell_type": "markdown",
   "metadata": {},
   "source": [
    "#### 3.3.3.&nbsp; Push the \"weather_city_df\" to the empty \"cities_weather\" table in the database"
   ]
  },
  {
   "cell_type": "code",
   "execution_count": 107,
   "metadata": {},
   "outputs": [
    {
     "data": {
      "text/plain": [
       "120"
      ]
     },
     "execution_count": 107,
     "metadata": {},
     "output_type": "execute_result"
    }
   ],
   "source": [
    "weather_city_df.to_sql('cities_weather',\n",
    "                if_exists='append',\n",
    "                con=connection_string,\n",
    "                index=False)"
   ]
  },
  {
   "cell_type": "markdown",
   "metadata": {},
   "source": [
    "#### 3.3.4.&nbsp; Retrieving the information from sql to this notebook"
   ]
  },
  {
   "cell_type": "code",
   "execution_count": 33,
   "metadata": {},
   "outputs": [
    {
     "data": {
      "text/html": [
       "<div>\n",
       "<style scoped>\n",
       "    .dataframe tbody tr th:only-of-type {\n",
       "        vertical-align: middle;\n",
       "    }\n",
       "\n",
       "    .dataframe tbody tr th {\n",
       "        vertical-align: top;\n",
       "    }\n",
       "\n",
       "    .dataframe thead th {\n",
       "        text-align: right;\n",
       "    }\n",
       "</style>\n",
       "<table border=\"1\" class=\"dataframe\">\n",
       "  <thead>\n",
       "    <tr style=\"text-align: right;\">\n",
       "      <th></th>\n",
       "      <th>weather_id</th>\n",
       "      <th>city_id</th>\n",
       "      <th>forecast_time</th>\n",
       "      <th>outlook</th>\n",
       "      <th>description</th>\n",
       "      <th>temperature</th>\n",
       "      <th>feels_like</th>\n",
       "      <th>temp_min</th>\n",
       "      <th>temp_max</th>\n",
       "      <th>wind_speed</th>\n",
       "      <th>rain_prob</th>\n",
       "    </tr>\n",
       "  </thead>\n",
       "  <tbody>\n",
       "    <tr>\n",
       "      <th>112</th>\n",
       "      <td>113</td>\n",
       "      <td>3</td>\n",
       "      <td>2024-12-08 12:00:00</td>\n",
       "      <td>Snow</td>\n",
       "      <td>light snow</td>\n",
       "      <td>2.03</td>\n",
       "      <td>-3.55</td>\n",
       "      <td>2.03</td>\n",
       "      <td>2.03</td>\n",
       "      <td>7.62</td>\n",
       "      <td>0.95</td>\n",
       "    </tr>\n",
       "    <tr>\n",
       "      <th>63</th>\n",
       "      <td>64</td>\n",
       "      <td>2</td>\n",
       "      <td>2024-12-07 09:00:00</td>\n",
       "      <td>Rain</td>\n",
       "      <td>light rain</td>\n",
       "      <td>6.91</td>\n",
       "      <td>3.12</td>\n",
       "      <td>6.91</td>\n",
       "      <td>6.91</td>\n",
       "      <td>6.54</td>\n",
       "      <td>1.00</td>\n",
       "    </tr>\n",
       "    <tr>\n",
       "      <th>15</th>\n",
       "      <td>16</td>\n",
       "      <td>1</td>\n",
       "      <td>2024-12-06 09:00:00</td>\n",
       "      <td>Rain</td>\n",
       "      <td>moderate rain</td>\n",
       "      <td>5.99</td>\n",
       "      <td>2.15</td>\n",
       "      <td>5.99</td>\n",
       "      <td>5.99</td>\n",
       "      <td>6.01</td>\n",
       "      <td>1.00</td>\n",
       "    </tr>\n",
       "  </tbody>\n",
       "</table>\n",
       "</div>"
      ],
      "text/plain": [
       "     weather_id  city_id       forecast_time outlook    description  \\\n",
       "112         113        3 2024-12-08 12:00:00    Snow     light snow   \n",
       "63           64        2 2024-12-07 09:00:00    Rain     light rain   \n",
       "15           16        1 2024-12-06 09:00:00    Rain  moderate rain   \n",
       "\n",
       "     temperature  feels_like  temp_min  temp_max  wind_speed  rain_prob  \n",
       "112         2.03       -3.55      2.03      2.03        7.62       0.95  \n",
       "63          6.91        3.12      6.91      6.91        6.54       1.00  \n",
       "15          5.99        2.15      5.99      5.99        6.01       1.00  "
      ]
     },
     "execution_count": 33,
     "metadata": {},
     "output_type": "execute_result"
    }
   ],
   "source": [
    "weather_city_from_sql = pd.read_sql(\"cities_weather\", con=connection_string)\n",
    "weather_city_from_sql.sample(3)"
   ]
  },
  {
   "cell_type": "markdown",
   "metadata": {},
   "source": [
    "### 3.4.&nbsp; airports"
   ]
  },
  {
   "cell_type": "markdown",
   "metadata": {},
   "source": [
    "#### 3.4.1.&nbsp; Preparing the airports table"
   ]
  },
  {
   "cell_type": "code",
   "execution_count": 30,
   "metadata": {},
   "outputs": [
    {
     "data": {
      "text/html": [
       "<div>\n",
       "<style scoped>\n",
       "    .dataframe tbody tr th:only-of-type {\n",
       "        vertical-align: middle;\n",
       "    }\n",
       "\n",
       "    .dataframe tbody tr th {\n",
       "        vertical-align: top;\n",
       "    }\n",
       "\n",
       "    .dataframe thead th {\n",
       "        text-align: right;\n",
       "    }\n",
       "</style>\n",
       "<table border=\"1\" class=\"dataframe\">\n",
       "  <thead>\n",
       "    <tr style=\"text-align: right;\">\n",
       "      <th></th>\n",
       "      <th>airport_icao</th>\n",
       "      <th>airport_name</th>\n",
       "      <th>municipalityName</th>\n",
       "      <th>city_id</th>\n",
       "      <th>City</th>\n",
       "      <th>Country</th>\n",
       "      <th>Latitude</th>\n",
       "      <th>Longitude</th>\n",
       "    </tr>\n",
       "  </thead>\n",
       "  <tbody>\n",
       "    <tr>\n",
       "      <th>0</th>\n",
       "      <td>EDDB</td>\n",
       "      <td>Berlin Brandenburg</td>\n",
       "      <td>Berlin</td>\n",
       "      <td>1</td>\n",
       "      <td>Berlin</td>\n",
       "      <td>Germany</td>\n",
       "      <td>52.5200</td>\n",
       "      <td>13.405</td>\n",
       "    </tr>\n",
       "    <tr>\n",
       "      <th>1</th>\n",
       "      <td>EDDH</td>\n",
       "      <td>Hamburg</td>\n",
       "      <td>Hamburg</td>\n",
       "      <td>2</td>\n",
       "      <td>Hamburg</td>\n",
       "      <td>Germany</td>\n",
       "      <td>53.5500</td>\n",
       "      <td>10.000</td>\n",
       "    </tr>\n",
       "    <tr>\n",
       "      <th>2</th>\n",
       "      <td>EDDM</td>\n",
       "      <td>Munich</td>\n",
       "      <td>Munich</td>\n",
       "      <td>3</td>\n",
       "      <td>Munich</td>\n",
       "      <td>Germany</td>\n",
       "      <td>48.1375</td>\n",
       "      <td>11.575</td>\n",
       "    </tr>\n",
       "  </tbody>\n",
       "</table>\n",
       "</div>"
      ],
      "text/plain": [
       "  airport_icao        airport_name municipalityName  city_id     City  \\\n",
       "0         EDDB  Berlin Brandenburg           Berlin        1   Berlin   \n",
       "1         EDDH            Hamburg           Hamburg        2  Hamburg   \n",
       "2         EDDM             Munich            Munich        3   Munich   \n",
       "\n",
       "   Country  Latitude  Longitude  \n",
       "0  Germany   52.5200     13.405  \n",
       "1  Germany   53.5500     10.000  \n",
       "2  Germany   48.1375     11.575  "
      ]
     },
     "execution_count": 30,
     "metadata": {},
     "output_type": "execute_result"
    }
   ],
   "source": [
    "cities_airports = airports.merge(city_info_from_sql,\n",
    "                                   left_on='municipalityName',\n",
    "                                   right_on='City',\n",
    "                                   how=\"left\")\n",
    "cities_airports"
   ]
  },
  {
   "cell_type": "code",
   "execution_count": 31,
   "metadata": {},
   "outputs": [],
   "source": [
    "cities_airports = (cities_airports\n",
    "            .drop(\n",
    "                columns=[\"municipalityName\", \"City\", \"Country\", \"Latitude\", \"Longitude\"]\n",
    "                , axis=1)\n",
    "                )"
   ]
  },
  {
   "cell_type": "code",
   "execution_count": 32,
   "metadata": {},
   "outputs": [],
   "source": [
    "# Move the last column to the first position\n",
    "cities_airports = cities_airports[[cities_airports.columns[-1]] + list(cities_airports.columns[:-1])]"
   ]
  },
  {
   "cell_type": "code",
   "execution_count": 33,
   "metadata": {},
   "outputs": [
    {
     "data": {
      "text/html": [
       "<div>\n",
       "<style scoped>\n",
       "    .dataframe tbody tr th:only-of-type {\n",
       "        vertical-align: middle;\n",
       "    }\n",
       "\n",
       "    .dataframe tbody tr th {\n",
       "        vertical-align: top;\n",
       "    }\n",
       "\n",
       "    .dataframe thead th {\n",
       "        text-align: right;\n",
       "    }\n",
       "</style>\n",
       "<table border=\"1\" class=\"dataframe\">\n",
       "  <thead>\n",
       "    <tr style=\"text-align: right;\">\n",
       "      <th></th>\n",
       "      <th>city_id</th>\n",
       "      <th>airport_icao</th>\n",
       "      <th>airport_name</th>\n",
       "    </tr>\n",
       "  </thead>\n",
       "  <tbody>\n",
       "    <tr>\n",
       "      <th>0</th>\n",
       "      <td>1</td>\n",
       "      <td>EDDB</td>\n",
       "      <td>Berlin Brandenburg</td>\n",
       "    </tr>\n",
       "    <tr>\n",
       "      <th>1</th>\n",
       "      <td>2</td>\n",
       "      <td>EDDH</td>\n",
       "      <td>Hamburg</td>\n",
       "    </tr>\n",
       "    <tr>\n",
       "      <th>2</th>\n",
       "      <td>3</td>\n",
       "      <td>EDDM</td>\n",
       "      <td>Munich</td>\n",
       "    </tr>\n",
       "  </tbody>\n",
       "</table>\n",
       "</div>"
      ],
      "text/plain": [
       "   city_id airport_icao        airport_name\n",
       "0        1         EDDB  Berlin Brandenburg\n",
       "1        2         EDDH            Hamburg \n",
       "2        3         EDDM             Munich "
      ]
     },
     "execution_count": 33,
     "metadata": {},
     "output_type": "execute_result"
    }
   ],
   "source": [
    "cities_airports"
   ]
  },
  {
   "cell_type": "code",
   "execution_count": 34,
   "metadata": {},
   "outputs": [
    {
     "name": "stdout",
     "output_type": "stream",
     "text": [
      "<class 'pandas.core.frame.DataFrame'>\n",
      "RangeIndex: 3 entries, 0 to 2\n",
      "Data columns (total 3 columns):\n",
      " #   Column        Non-Null Count  Dtype \n",
      "---  ------        --------------  ----- \n",
      " 0   city_id       3 non-null      int64 \n",
      " 1   airport_icao  3 non-null      object\n",
      " 2   airport_name  3 non-null      object\n",
      "dtypes: int64(1), object(2)\n",
      "memory usage: 204.0+ bytes\n"
     ]
    }
   ],
   "source": [
    "cities_airports.info()"
   ]
  },
  {
   "cell_type": "markdown",
   "metadata": {},
   "source": [
    "#### 3.4.2.&nbsp; Create \"cities_airport\" table in the database"
   ]
  },
  {
   "cell_type": "markdown",
   "metadata": {},
   "source": [
    "```sql\n",
    "CREATE TABLE cities_airport (\n",
    "\tairport_id INT AUTO_INCREMENT, -- Automatically generated ID for each row\n",
    "    city_id INT NOT NULL, -- Adding the ID for each city\n",
    "    airport_icao VARCHAR(255),\n",
    "    airport_name VARCHAR(255),\n",
    "    PRIMARY KEY (airport_id),\n",
    "    FOREIGN KEY (city_id) REFERENCES cities_info(city_id) -- Foreign key to connect each city to its weather\n",
    ");\n",
    "```"
   ]
  },
  {
   "cell_type": "markdown",
   "metadata": {},
   "source": [
    "#### 3.4.3.&nbsp; Push the \"cities_airports\" to the empty \"cities_airport\" table in the database"
   ]
  },
  {
   "cell_type": "code",
   "execution_count": 41,
   "metadata": {},
   "outputs": [
    {
     "data": {
      "text/plain": [
       "3"
      ]
     },
     "execution_count": 41,
     "metadata": {},
     "output_type": "execute_result"
    }
   ],
   "source": [
    "cities_airports.to_sql('cities_airport',\n",
    "                if_exists='append',\n",
    "                con=connection_string,\n",
    "                index=False)"
   ]
  },
  {
   "cell_type": "markdown",
   "metadata": {},
   "source": [
    "#### 3.4.4.&nbsp; Retrieving the information from sql to this notebook"
   ]
  },
  {
   "cell_type": "code",
   "execution_count": 34,
   "metadata": {},
   "outputs": [
    {
     "data": {
      "text/html": [
       "<div>\n",
       "<style scoped>\n",
       "    .dataframe tbody tr th:only-of-type {\n",
       "        vertical-align: middle;\n",
       "    }\n",
       "\n",
       "    .dataframe tbody tr th {\n",
       "        vertical-align: top;\n",
       "    }\n",
       "\n",
       "    .dataframe thead th {\n",
       "        text-align: right;\n",
       "    }\n",
       "</style>\n",
       "<table border=\"1\" class=\"dataframe\">\n",
       "  <thead>\n",
       "    <tr style=\"text-align: right;\">\n",
       "      <th></th>\n",
       "      <th>airport_id</th>\n",
       "      <th>city_id</th>\n",
       "      <th>airport_icao</th>\n",
       "      <th>airport_name</th>\n",
       "    </tr>\n",
       "  </thead>\n",
       "  <tbody>\n",
       "    <tr>\n",
       "      <th>0</th>\n",
       "      <td>1</td>\n",
       "      <td>1</td>\n",
       "      <td>EDDB</td>\n",
       "      <td>Berlin Brandenburg</td>\n",
       "    </tr>\n",
       "    <tr>\n",
       "      <th>1</th>\n",
       "      <td>2</td>\n",
       "      <td>2</td>\n",
       "      <td>EDDH</td>\n",
       "      <td>Hamburg</td>\n",
       "    </tr>\n",
       "    <tr>\n",
       "      <th>2</th>\n",
       "      <td>3</td>\n",
       "      <td>3</td>\n",
       "      <td>EDDM</td>\n",
       "      <td>Munich</td>\n",
       "    </tr>\n",
       "  </tbody>\n",
       "</table>\n",
       "</div>"
      ],
      "text/plain": [
       "   airport_id  city_id airport_icao        airport_name\n",
       "0           1        1         EDDB  Berlin Brandenburg\n",
       "1           2        2         EDDH            Hamburg \n",
       "2           3        3         EDDM             Munich "
      ]
     },
     "execution_count": 34,
     "metadata": {},
     "output_type": "execute_result"
    }
   ],
   "source": [
    "airports_city_from_sql = pd.read_sql(\"cities_airport\", con=connection_string)\n",
    "airports_city_from_sql"
   ]
  },
  {
   "cell_type": "markdown",
   "metadata": {},
   "source": [
    "### 3.5.&nbsp; flight_df"
   ]
  },
  {
   "cell_type": "markdown",
   "metadata": {},
   "source": [
    "#### 3.5.1.&nbsp; Preparing the airports table"
   ]
  },
  {
   "cell_type": "code",
   "execution_count": 123,
   "metadata": {},
   "outputs": [
    {
     "data": {
      "text/html": [
       "<div>\n",
       "<style scoped>\n",
       "    .dataframe tbody tr th:only-of-type {\n",
       "        vertical-align: middle;\n",
       "    }\n",
       "\n",
       "    .dataframe tbody tr th {\n",
       "        vertical-align: top;\n",
       "    }\n",
       "\n",
       "    .dataframe thead th {\n",
       "        text-align: right;\n",
       "    }\n",
       "</style>\n",
       "<table border=\"1\" class=\"dataframe\">\n",
       "  <thead>\n",
       "    <tr style=\"text-align: right;\">\n",
       "      <th></th>\n",
       "      <th>icao</th>\n",
       "      <th>icao_arrival</th>\n",
       "      <th>arrival_local_time</th>\n",
       "      <th>revised_local_time</th>\n",
       "      <th>flight_number</th>\n",
       "      <th>flight_status</th>\n",
       "      <th>city_id</th>\n",
       "      <th>airport_icao</th>\n",
       "      <th>airport_name</th>\n",
       "    </tr>\n",
       "  </thead>\n",
       "  <tbody>\n",
       "    <tr>\n",
       "      <th>227</th>\n",
       "      <td>EDDH</td>\n",
       "      <td>LEPA</td>\n",
       "      <td>2024-12-04 15:50:00</td>\n",
       "      <td>2024-12-04 15:50:00</td>\n",
       "      <td>EW 7583</td>\n",
       "      <td>Expected</td>\n",
       "      <td>2</td>\n",
       "      <td>EDDH</td>\n",
       "      <td>Hamburg</td>\n",
       "    </tr>\n",
       "    <tr>\n",
       "      <th>256</th>\n",
       "      <td>EDDH</td>\n",
       "      <td>OMDB</td>\n",
       "      <td>2024-12-04 19:05:00</td>\n",
       "      <td>2024-12-04 19:05:00</td>\n",
       "      <td>EK 61</td>\n",
       "      <td>Expected</td>\n",
       "      <td>2</td>\n",
       "      <td>EDDH</td>\n",
       "      <td>Hamburg</td>\n",
       "    </tr>\n",
       "    <tr>\n",
       "      <th>145</th>\n",
       "      <td>EDDB</td>\n",
       "      <td>EIDW</td>\n",
       "      <td>2024-12-04 18:50:00</td>\n",
       "      <td>2024-12-04 18:50:00</td>\n",
       "      <td>EI 336</td>\n",
       "      <td>Expected</td>\n",
       "      <td>1</td>\n",
       "      <td>EDDB</td>\n",
       "      <td>Berlin Brandenburg</td>\n",
       "    </tr>\n",
       "  </tbody>\n",
       "</table>\n",
       "</div>"
      ],
      "text/plain": [
       "     icao icao_arrival  arrival_local_time  revised_local_time flight_number  \\\n",
       "227  EDDH         LEPA 2024-12-04 15:50:00 2024-12-04 15:50:00       EW 7583   \n",
       "256  EDDH         OMDB 2024-12-04 19:05:00 2024-12-04 19:05:00         EK 61   \n",
       "145  EDDB         EIDW 2024-12-04 18:50:00 2024-12-04 18:50:00        EI 336   \n",
       "\n",
       "    flight_status  city_id airport_icao        airport_name  \n",
       "227      Expected        2         EDDH            Hamburg   \n",
       "256      Expected        2         EDDH            Hamburg   \n",
       "145      Expected        1         EDDB  Berlin Brandenburg  "
      ]
     },
     "execution_count": 123,
     "metadata": {},
     "output_type": "execute_result"
    }
   ],
   "source": [
    "flight_airports = flight_df.merge(cities_airports,\n",
    "                                   left_on='icao',\n",
    "                                   right_on='airport_icao',\n",
    "                                   how=\"left\")\n",
    "flight_airports.sample(3)"
   ]
  },
  {
   "cell_type": "code",
   "execution_count": 125,
   "metadata": {},
   "outputs": [],
   "source": [
    "flight_airports = (flight_airports\n",
    "                      .drop(\n",
    "                          columns=[\"airport_icao\",\"airport_name\"]\n",
    "                          )\n",
    "                          )"
   ]
  },
  {
   "cell_type": "code",
   "execution_count": 126,
   "metadata": {},
   "outputs": [],
   "source": [
    "flight_airports = flight_airports[[flight_airports.columns[-1]] + list(flight_airports.columns[:-1])]"
   ]
  },
  {
   "cell_type": "code",
   "execution_count": 127,
   "metadata": {},
   "outputs": [
    {
     "data": {
      "text/html": [
       "<div>\n",
       "<style scoped>\n",
       "    .dataframe tbody tr th:only-of-type {\n",
       "        vertical-align: middle;\n",
       "    }\n",
       "\n",
       "    .dataframe tbody tr th {\n",
       "        vertical-align: top;\n",
       "    }\n",
       "\n",
       "    .dataframe thead th {\n",
       "        text-align: right;\n",
       "    }\n",
       "</style>\n",
       "<table border=\"1\" class=\"dataframe\">\n",
       "  <thead>\n",
       "    <tr style=\"text-align: right;\">\n",
       "      <th></th>\n",
       "      <th>city_id</th>\n",
       "      <th>icao</th>\n",
       "      <th>icao_arrival</th>\n",
       "      <th>arrival_local_time</th>\n",
       "      <th>revised_local_time</th>\n",
       "      <th>flight_number</th>\n",
       "      <th>flight_status</th>\n",
       "    </tr>\n",
       "  </thead>\n",
       "  <tbody>\n",
       "    <tr>\n",
       "      <th>145</th>\n",
       "      <td>1</td>\n",
       "      <td>EDDB</td>\n",
       "      <td>EIDW</td>\n",
       "      <td>2024-12-04 18:50:00</td>\n",
       "      <td>2024-12-04 18:50:00</td>\n",
       "      <td>EI 336</td>\n",
       "      <td>Expected</td>\n",
       "    </tr>\n",
       "    <tr>\n",
       "      <th>357</th>\n",
       "      <td>3</td>\n",
       "      <td>EDDM</td>\n",
       "      <td>EGLL</td>\n",
       "      <td>2024-12-04 11:35:00</td>\n",
       "      <td>2024-12-04 11:40:00</td>\n",
       "      <td>LH 2471</td>\n",
       "      <td>Expected</td>\n",
       "    </tr>\n",
       "    <tr>\n",
       "      <th>385</th>\n",
       "      <td>3</td>\n",
       "      <td>EDDM</td>\n",
       "      <td>EGBB</td>\n",
       "      <td>2024-12-04 13:35:00</td>\n",
       "      <td>2024-12-04 13:35:00</td>\n",
       "      <td>VL 2509</td>\n",
       "      <td>Expected</td>\n",
       "    </tr>\n",
       "  </tbody>\n",
       "</table>\n",
       "</div>"
      ],
      "text/plain": [
       "     city_id  icao icao_arrival  arrival_local_time  revised_local_time  \\\n",
       "145        1  EDDB         EIDW 2024-12-04 18:50:00 2024-12-04 18:50:00   \n",
       "357        3  EDDM         EGLL 2024-12-04 11:35:00 2024-12-04 11:40:00   \n",
       "385        3  EDDM         EGBB 2024-12-04 13:35:00 2024-12-04 13:35:00   \n",
       "\n",
       "    flight_number flight_status  \n",
       "145        EI 336      Expected  \n",
       "357       LH 2471      Expected  \n",
       "385       VL 2509      Expected  "
      ]
     },
     "execution_count": 127,
     "metadata": {},
     "output_type": "execute_result"
    }
   ],
   "source": [
    "flight_airports.sample(3)"
   ]
  },
  {
   "cell_type": "code",
   "execution_count": 128,
   "metadata": {},
   "outputs": [
    {
     "name": "stdout",
     "output_type": "stream",
     "text": [
      "<class 'pandas.core.frame.DataFrame'>\n",
      "RangeIndex: 556 entries, 0 to 555\n",
      "Data columns (total 7 columns):\n",
      " #   Column              Non-Null Count  Dtype         \n",
      "---  ------              --------------  -----         \n",
      " 0   city_id             556 non-null    int64         \n",
      " 1   icao                556 non-null    object        \n",
      " 2   icao_arrival        548 non-null    object        \n",
      " 3   arrival_local_time  556 non-null    datetime64[ns]\n",
      " 4   revised_local_time  553 non-null    datetime64[ns]\n",
      " 5   flight_number       556 non-null    object        \n",
      " 6   flight_status       556 non-null    object        \n",
      "dtypes: datetime64[ns](2), int64(1), object(4)\n",
      "memory usage: 30.5+ KB\n"
     ]
    }
   ],
   "source": [
    "flight_airports.info()"
   ]
  },
  {
   "cell_type": "markdown",
   "metadata": {},
   "source": [
    "#### 3.5.2.&nbsp; Create \"cities_flight\" table in the database"
   ]
  },
  {
   "cell_type": "markdown",
   "metadata": {},
   "source": [
    "```sql\n",
    "CREATE TABLE cities_flight (\n",
    "\tflights_id INT AUTO_INCREMENT, -- Automatically generated ID for each row\n",
    "    city_id INT NOT NULL, -- Adding the ID for each city\n",
    "    icao VARCHAR(255),\n",
    "    icao_arrival VARCHAR(255),\n",
    "    arrival_local_time datetime, \n",
    "    revised_local_time datetime, \n",
    "    flight_number VARCHAR(255),\n",
    "    flight_status VARCHAR(255),\n",
    "    PRIMARY KEY (flights_id),\n",
    "    FOREIGN KEY (city_id) REFERENCES cities_info(city_id) -- Foreign key to connect each city to its weather\n",
    ");\n",
    "```"
   ]
  },
  {
   "cell_type": "markdown",
   "metadata": {},
   "source": [
    "#### 3.5.3.&nbsp; Push the \"flight_airports\" to the empty \"cities_flight\" table in the database"
   ]
  },
  {
   "cell_type": "code",
   "execution_count": 129,
   "metadata": {},
   "outputs": [
    {
     "data": {
      "text/plain": [
       "556"
      ]
     },
     "execution_count": 129,
     "metadata": {},
     "output_type": "execute_result"
    }
   ],
   "source": [
    "flight_airports.to_sql('cities_flight',\n",
    "                if_exists='append',\n",
    "                con=connection_string,\n",
    "                index=False)"
   ]
  },
  {
   "cell_type": "markdown",
   "metadata": {},
   "source": [
    "#### 3.5.4.&nbsp; Retrieving the information from sql to this notebook"
   ]
  },
  {
   "cell_type": "code",
   "execution_count": 35,
   "metadata": {},
   "outputs": [
    {
     "data": {
      "text/html": [
       "<div>\n",
       "<style scoped>\n",
       "    .dataframe tbody tr th:only-of-type {\n",
       "        vertical-align: middle;\n",
       "    }\n",
       "\n",
       "    .dataframe tbody tr th {\n",
       "        vertical-align: top;\n",
       "    }\n",
       "\n",
       "    .dataframe thead th {\n",
       "        text-align: right;\n",
       "    }\n",
       "</style>\n",
       "<table border=\"1\" class=\"dataframe\">\n",
       "  <thead>\n",
       "    <tr style=\"text-align: right;\">\n",
       "      <th></th>\n",
       "      <th>flights_id</th>\n",
       "      <th>city_id</th>\n",
       "      <th>icao</th>\n",
       "      <th>icao_arrival</th>\n",
       "      <th>arrival_local_time</th>\n",
       "      <th>revised_local_time</th>\n",
       "      <th>flight_number</th>\n",
       "      <th>flight_status</th>\n",
       "    </tr>\n",
       "  </thead>\n",
       "  <tbody>\n",
       "    <tr>\n",
       "      <th>202</th>\n",
       "      <td>203</td>\n",
       "      <td>2</td>\n",
       "      <td>EDDH</td>\n",
       "      <td>EDDM</td>\n",
       "      <td>2024-12-04 12:10:00</td>\n",
       "      <td>2024-12-04 12:10:00</td>\n",
       "      <td>VL 2062</td>\n",
       "      <td>Expected</td>\n",
       "    </tr>\n",
       "    <tr>\n",
       "      <th>536</th>\n",
       "      <td>537</td>\n",
       "      <td>3</td>\n",
       "      <td>EDDM</td>\n",
       "      <td>ZBAA</td>\n",
       "      <td>2024-12-04 19:15:00</td>\n",
       "      <td>2024-12-04 19:15:00</td>\n",
       "      <td>LH 723</td>\n",
       "      <td>Expected</td>\n",
       "    </tr>\n",
       "    <tr>\n",
       "      <th>399</th>\n",
       "      <td>400</td>\n",
       "      <td>3</td>\n",
       "      <td>EDDM</td>\n",
       "      <td>LJLJ</td>\n",
       "      <td>2024-12-04 14:05:00</td>\n",
       "      <td>2024-12-04 14:05:00</td>\n",
       "      <td>LH 1697</td>\n",
       "      <td>Expected</td>\n",
       "    </tr>\n",
       "  </tbody>\n",
       "</table>\n",
       "</div>"
      ],
      "text/plain": [
       "     flights_id  city_id  icao icao_arrival  arrival_local_time  \\\n",
       "202         203        2  EDDH         EDDM 2024-12-04 12:10:00   \n",
       "536         537        3  EDDM         ZBAA 2024-12-04 19:15:00   \n",
       "399         400        3  EDDM         LJLJ 2024-12-04 14:05:00   \n",
       "\n",
       "     revised_local_time flight_number flight_status  \n",
       "202 2024-12-04 12:10:00       VL 2062      Expected  \n",
       "536 2024-12-04 19:15:00        LH 723      Expected  \n",
       "399 2024-12-04 14:05:00       LH 1697      Expected  "
      ]
     },
     "execution_count": 35,
     "metadata": {},
     "output_type": "execute_result"
    }
   ],
   "source": [
    "flight_airports_from_sql = pd.read_sql(\"cities_flight\", con=connection_string)\n",
    "flight_airports_from_sql.sample(3)"
   ]
  },
  {
   "cell_type": "markdown",
   "metadata": {},
   "source": [
    "---\n",
    "## 4.&nbsp; Pushing the static data from Python to the Google Cloud \n",
    "This can be done the same way we did with our local instance. However, don't forget to change your **connection string**. You will need to change the **schema name**, **table name**, potentially **your password**, but definitely **the variable** and **the host**."
   ]
  },
  {
   "cell_type": "markdown",
   "metadata": {},
   "source": [
    "First: import from local"
   ]
  },
  {
   "cell_type": "code",
   "execution_count": 39,
   "metadata": {},
   "outputs": [],
   "source": [
    "# Save your password in a .py file called safe.\n",
    "from safe import sql_password"
   ]
  },
  {
   "cell_type": "code",
   "execution_count": 36,
   "metadata": {},
   "outputs": [],
   "source": [
    "schema = \"CityDatabase\"\n",
    "host = \"127.0.0.1\"\n",
    "user = \"root\"\n",
    "password = sql_password\n",
    "port = 3306\n",
    "\n",
    "connection_string = f'mysql+pymysql://{user}:{password}@{host}:{port}/{schema}'"
   ]
  },
  {
   "cell_type": "code",
   "execution_count": 37,
   "metadata": {},
   "outputs": [
    {
     "data": {
      "text/html": [
       "<div>\n",
       "<style scoped>\n",
       "    .dataframe tbody tr th:only-of-type {\n",
       "        vertical-align: middle;\n",
       "    }\n",
       "\n",
       "    .dataframe tbody tr th {\n",
       "        vertical-align: top;\n",
       "    }\n",
       "\n",
       "    .dataframe thead th {\n",
       "        text-align: right;\n",
       "    }\n",
       "</style>\n",
       "<table border=\"1\" class=\"dataframe\">\n",
       "  <thead>\n",
       "    <tr style=\"text-align: right;\">\n",
       "      <th></th>\n",
       "      <th>city_id</th>\n",
       "      <th>City</th>\n",
       "      <th>Country</th>\n",
       "      <th>Latitude</th>\n",
       "      <th>Longitude</th>\n",
       "    </tr>\n",
       "  </thead>\n",
       "  <tbody>\n",
       "    <tr>\n",
       "      <th>0</th>\n",
       "      <td>1</td>\n",
       "      <td>Berlin</td>\n",
       "      <td>Germany</td>\n",
       "      <td>52.5200</td>\n",
       "      <td>13.405</td>\n",
       "    </tr>\n",
       "    <tr>\n",
       "      <th>1</th>\n",
       "      <td>2</td>\n",
       "      <td>Hamburg</td>\n",
       "      <td>Germany</td>\n",
       "      <td>53.5500</td>\n",
       "      <td>10.000</td>\n",
       "    </tr>\n",
       "    <tr>\n",
       "      <th>2</th>\n",
       "      <td>3</td>\n",
       "      <td>Munich</td>\n",
       "      <td>Germany</td>\n",
       "      <td>48.1375</td>\n",
       "      <td>11.575</td>\n",
       "    </tr>\n",
       "  </tbody>\n",
       "</table>\n",
       "</div>"
      ],
      "text/plain": [
       "   city_id     City  Country  Latitude  Longitude\n",
       "0        1   Berlin  Germany   52.5200     13.405\n",
       "1        2  Hamburg  Germany   53.5500     10.000\n",
       "2        3   Munich  Germany   48.1375     11.575"
      ]
     },
     "execution_count": 37,
     "metadata": {},
     "output_type": "execute_result"
    }
   ],
   "source": [
    "city_info_GC = pd.read_sql(\"cities_info\", con=connection_string)\n",
    "city_info_GC"
   ]
  },
  {
   "cell_type": "code",
   "execution_count": 56,
   "metadata": {},
   "outputs": [],
   "source": [
    "city_info_GC = (city_info_GC\n",
    "                      .drop(\n",
    "                          columns=[\"city_id\"]\n",
    "                          )\n",
    "                          )"
   ]
  },
  {
   "cell_type": "code",
   "execution_count": 57,
   "metadata": {},
   "outputs": [
    {
     "data": {
      "text/html": [
       "<div>\n",
       "<style scoped>\n",
       "    .dataframe tbody tr th:only-of-type {\n",
       "        vertical-align: middle;\n",
       "    }\n",
       "\n",
       "    .dataframe tbody tr th {\n",
       "        vertical-align: top;\n",
       "    }\n",
       "\n",
       "    .dataframe thead th {\n",
       "        text-align: right;\n",
       "    }\n",
       "</style>\n",
       "<table border=\"1\" class=\"dataframe\">\n",
       "  <thead>\n",
       "    <tr style=\"text-align: right;\">\n",
       "      <th></th>\n",
       "      <th>City</th>\n",
       "      <th>Country</th>\n",
       "      <th>Latitude</th>\n",
       "      <th>Longitude</th>\n",
       "    </tr>\n",
       "  </thead>\n",
       "  <tbody>\n",
       "    <tr>\n",
       "      <th>0</th>\n",
       "      <td>Berlin</td>\n",
       "      <td>Germany</td>\n",
       "      <td>52.5200</td>\n",
       "      <td>13.405</td>\n",
       "    </tr>\n",
       "    <tr>\n",
       "      <th>1</th>\n",
       "      <td>Hamburg</td>\n",
       "      <td>Germany</td>\n",
       "      <td>53.5500</td>\n",
       "      <td>10.000</td>\n",
       "    </tr>\n",
       "    <tr>\n",
       "      <th>2</th>\n",
       "      <td>Munich</td>\n",
       "      <td>Germany</td>\n",
       "      <td>48.1375</td>\n",
       "      <td>11.575</td>\n",
       "    </tr>\n",
       "  </tbody>\n",
       "</table>\n",
       "</div>"
      ],
      "text/plain": [
       "      City  Country  Latitude  Longitude\n",
       "0   Berlin  Germany   52.5200     13.405\n",
       "1  Hamburg  Germany   53.5500     10.000\n",
       "2   Munich  Germany   48.1375     11.575"
      ]
     },
     "execution_count": 57,
     "metadata": {},
     "output_type": "execute_result"
    }
   ],
   "source": [
    "city_info_GC"
   ]
  },
  {
   "cell_type": "code",
   "execution_count": 61,
   "metadata": {},
   "outputs": [
    {
     "data": {
      "text/html": [
       "<div>\n",
       "<style scoped>\n",
       "    .dataframe tbody tr th:only-of-type {\n",
       "        vertical-align: middle;\n",
       "    }\n",
       "\n",
       "    .dataframe tbody tr th {\n",
       "        vertical-align: top;\n",
       "    }\n",
       "\n",
       "    .dataframe thead th {\n",
       "        text-align: right;\n",
       "    }\n",
       "</style>\n",
       "<table border=\"1\" class=\"dataframe\">\n",
       "  <thead>\n",
       "    <tr style=\"text-align: right;\">\n",
       "      <th></th>\n",
       "      <th>city_id</th>\n",
       "      <th>population_id</th>\n",
       "      <th>Population</th>\n",
       "      <th>Timestamp_Population</th>\n",
       "    </tr>\n",
       "  </thead>\n",
       "  <tbody>\n",
       "    <tr>\n",
       "      <th>0</th>\n",
       "      <td>1</td>\n",
       "      <td>1</td>\n",
       "      <td>3878100</td>\n",
       "      <td>2024-12-04</td>\n",
       "    </tr>\n",
       "    <tr>\n",
       "      <th>1</th>\n",
       "      <td>2</td>\n",
       "      <td>2</td>\n",
       "      <td>1964021</td>\n",
       "      <td>2024-12-04</td>\n",
       "    </tr>\n",
       "    <tr>\n",
       "      <th>2</th>\n",
       "      <td>3</td>\n",
       "      <td>3</td>\n",
       "      <td>1510378</td>\n",
       "      <td>2024-12-04</td>\n",
       "    </tr>\n",
       "  </tbody>\n",
       "</table>\n",
       "</div>"
      ],
      "text/plain": [
       "   city_id  population_id  Population Timestamp_Population\n",
       "0        1              1     3878100           2024-12-04\n",
       "1        2              2     1964021           2024-12-04\n",
       "2        3              3     1510378           2024-12-04"
      ]
     },
     "execution_count": 61,
     "metadata": {},
     "output_type": "execute_result"
    }
   ],
   "source": [
    "population_city_GC = pd.read_sql(\"cities_population\", con=connection_string)\n",
    "population_city_GC"
   ]
  },
  {
   "cell_type": "code",
   "execution_count": 65,
   "metadata": {},
   "outputs": [
    {
     "data": {
      "text/html": [
       "<div>\n",
       "<style scoped>\n",
       "    .dataframe tbody tr th:only-of-type {\n",
       "        vertical-align: middle;\n",
       "    }\n",
       "\n",
       "    .dataframe tbody tr th {\n",
       "        vertical-align: top;\n",
       "    }\n",
       "\n",
       "    .dataframe thead th {\n",
       "        text-align: right;\n",
       "    }\n",
       "</style>\n",
       "<table border=\"1\" class=\"dataframe\">\n",
       "  <thead>\n",
       "    <tr style=\"text-align: right;\">\n",
       "      <th></th>\n",
       "      <th>airport_id</th>\n",
       "      <th>city_id</th>\n",
       "      <th>airport_icao</th>\n",
       "      <th>airport_name</th>\n",
       "    </tr>\n",
       "  </thead>\n",
       "  <tbody>\n",
       "    <tr>\n",
       "      <th>0</th>\n",
       "      <td>1</td>\n",
       "      <td>1</td>\n",
       "      <td>EDDB</td>\n",
       "      <td>Berlin Brandenburg</td>\n",
       "    </tr>\n",
       "    <tr>\n",
       "      <th>1</th>\n",
       "      <td>2</td>\n",
       "      <td>2</td>\n",
       "      <td>EDDH</td>\n",
       "      <td>Hamburg</td>\n",
       "    </tr>\n",
       "    <tr>\n",
       "      <th>2</th>\n",
       "      <td>3</td>\n",
       "      <td>3</td>\n",
       "      <td>EDDM</td>\n",
       "      <td>Munich</td>\n",
       "    </tr>\n",
       "  </tbody>\n",
       "</table>\n",
       "</div>"
      ],
      "text/plain": [
       "   airport_id  city_id airport_icao        airport_name\n",
       "0           1        1         EDDB  Berlin Brandenburg\n",
       "1           2        2         EDDH            Hamburg \n",
       "2           3        3         EDDM             Munich "
      ]
     },
     "execution_count": 65,
     "metadata": {},
     "output_type": "execute_result"
    }
   ],
   "source": [
    "airports_city_GC = pd.read_sql(\"cities_airport\", con=connection_string)\n",
    "airports_city_GC"
   ]
  },
  {
   "cell_type": "markdown",
   "metadata": {},
   "source": [
    "Second: export to the google cloud"
   ]
  },
  {
   "cell_type": "code",
   "execution_count": 44,
   "metadata": {},
   "outputs": [],
   "source": [
    "# Save your password in a .py file called safe.\n",
    "from safe import sql_password"
   ]
  },
  {
   "cell_type": "code",
   "execution_count": 40,
   "metadata": {},
   "outputs": [],
   "source": [
    "schema = \"gans_schema\"\n",
    "host = \"34.78.116.238\"\n",
    "user = \"root\"\n",
    "password = sql_password\n",
    "port = 3306\n",
    "\n",
    "connection_string = f'mysql+pymysql://{user}:{password}@{host}:{port}/{schema}'"
   ]
  },
  {
   "cell_type": "code",
   "execution_count": 59,
   "metadata": {},
   "outputs": [
    {
     "data": {
      "text/plain": [
       "3"
      ]
     },
     "execution_count": 59,
     "metadata": {},
     "output_type": "execute_result"
    }
   ],
   "source": [
    "city_info_GC.to_sql('cities_info',\n",
    "                 if_exists='append',\n",
    "                  con=connection_string,\n",
    "                  index=False)"
   ]
  },
  {
   "cell_type": "code",
   "execution_count": 63,
   "metadata": {},
   "outputs": [
    {
     "data": {
      "text/plain": [
       "3"
      ]
     },
     "execution_count": 63,
     "metadata": {},
     "output_type": "execute_result"
    }
   ],
   "source": [
    "population_city_GC.to_sql('cities_population',\n",
    "                if_exists='append',\n",
    "                con=connection_string,\n",
    "                index=False)"
   ]
  },
  {
   "cell_type": "code",
   "execution_count": 67,
   "metadata": {},
   "outputs": [
    {
     "data": {
      "text/plain": [
       "3"
      ]
     },
     "execution_count": 67,
     "metadata": {},
     "output_type": "execute_result"
    }
   ],
   "source": [
    "airports_city_GC.to_sql('cities_airport',\n",
    "                if_exists='append',\n",
    "                con=connection_string,\n",
    "                index=False)"
   ]
  }
 ],
 "metadata": {
  "kernelspec": {
   "display_name": "Python 3",
   "language": "python",
   "name": "python3"
  },
  "language_info": {
   "codemirror_mode": {
    "name": "ipython",
    "version": 3
   },
   "file_extension": ".py",
   "mimetype": "text/x-python",
   "name": "python",
   "nbconvert_exporter": "python",
   "pygments_lexer": "ipython3",
   "version": "3.13.0"
  }
 },
 "nbformat": 4,
 "nbformat_minor": 2
}
