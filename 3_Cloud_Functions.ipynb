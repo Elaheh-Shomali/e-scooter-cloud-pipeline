{
 "cells": [
  {
   "cell_type": "markdown",
   "metadata": {},
   "source": [
    "# &nbsp; Gans Project: Cloud Functions"
   ]
  },
  {
   "cell_type": "code",
   "execution_count": null,
   "metadata": {},
   "outputs": [],
   "source": [
    "#%pip install functions-framework"
   ]
  },
  {
   "cell_type": "code",
   "execution_count": null,
   "metadata": {},
   "outputs": [],
   "source": [
    "import pandas as pd\n",
    "import requests\n",
    "from bs4 import BeautifulSoup\n",
    "import sqlalchemy\n",
    "from lat_lon_parser import parse\n",
    "from pytz import timezone\n",
    "from datetime import datetime\n",
    "import functions_framework"
   ]
  },
  {
   "cell_type": "code",
   "execution_count": null,
   "metadata": {},
   "outputs": [],
   "source": [
    "# Define the API key to be passed into the url in a .py file called safekey.\n",
    "from safe import API_key\n",
    "from safe import sql_password"
   ]
  },
  {
   "cell_type": "markdown",
   "metadata": {},
   "source": [
    "## 1.&nbsp; Weather cloud function, with testing"
   ]
  },
  {
   "cell_type": "markdown",
   "metadata": {},
   "source": [
    "main.py file in GCP:"
   ]
  },
  {
   "cell_type": "code",
   "execution_count": null,
   "metadata": {},
   "outputs": [],
   "source": [
    "import functions_framework\n",
    "import pandas as pd\n",
    "import requests\n",
    "import sqlalchemy\n",
    "from pytz import timezone\n",
    "from datetime import datetime\n",
    "\n",
    "@functions_framework.http\n",
    "def weather_function(request):\n",
    "    schema = \"gans_schema\" # The name of your database in cloud\n",
    "    host = \"34.78.116.238\"\n",
    "    user = \"root\"\n",
    "    password = sql_password\n",
    "    port = 3306\n",
    "    \n",
    "    # Create the connection string for SQLAlchemy\n",
    "    connection_string = f'mysql+pymysql://{user}:{password}@{host}:{port}/{schema}'\n",
    "    \n",
    "    # Read the cities table into a DataFrame\n",
    "    cities_df = pd.read_sql(\"cities_info\", con=connection_string)\n",
    "    existing_weather_df = pd.read_sql(\"cities_weather\", con=connection_string)\n",
    "    \n",
    "    berlin_timezone = timezone('Europe/Berlin')\n",
    "    API_key = {API_key}\n",
    "    \n",
    "    # Define the limit to be passed into the url.\n",
    "    limit = 5\n",
    "    \n",
    "    # Create an empty list for each of the values.\n",
    "    weather_dictionary = {\"city_id\": [],\n",
    "    \"forecast_time\": [],\n",
    "    \"outlook\": [],\n",
    "    \"description\": [],\n",
    "    \"temperature\": [],\n",
    "    \"feels_like\": [],\n",
    "    \"temp_min\": [],\n",
    "    \"temp_max\": [],\n",
    "    \"wind_speed\": [],\n",
    "    \"rain_prob\": []\n",
    "    }\n",
    "    \n",
    "    # Get the coordinates of the desired city\n",
    "    for _, city in cities_df.iterrows():\n",
    "        city_id = city[\"city_id\"]\n",
    "        city_names = city[\"City\"]\n",
    "        coordinates = requests.get(f\"http://api.openweathermap.org/data/2.5/forecast?q={city_names}&limit={limit}&appid={API_key}\")\n",
    "        coordinates_json= coordinates.json()\n",
    "        \n",
    "        # Define the parameters to be passed into the url.\n",
    "        lat = coordinates_json[\"city\"][\"coord\"][\"lat\"]\n",
    "        lon = coordinates_json[\"city\"][\"coord\"][\"lon\"]\n",
    "        \n",
    "        # Define the parameters to be passed into the url.\n",
    "        weather = (requests\n",
    "        .get(f\"https://api.openweathermap.org/data/2.5/forecast?lat={lat}&lon={lon}&appid={API_key}&units=metric\")\n",
    "        )\n",
    "        weather_json = weather.json()\n",
    "        \n",
    "        #retrieval_time = datetime.now(berlin_timezone).strftime(\"%Y-%m-%d %H:%M:%S\")\n",
    "        \n",
    "        # Iterate over the list inside the weather_dictionary to get the data for different days and time.\n",
    "        i = 0\n",
    "        \n",
    "        for _ in weather_json[\"list\"]:\n",
    "            # extract the relevant information\n",
    "            weather_dictionary[\"city_id\"].append(city_id)\n",
    "            weather_dictionary[\"forecast_time\"].append(weather_json[\"list\"][i][\"dt_txt\"])\n",
    "            weather_dictionary[\"outlook\"].append(weather_json[\"list\"][i][\"weather\"][0][\"main\"])\n",
    "            weather_dictionary[\"description\"].append(weather_json[\"list\"][i][\"weather\"][0][\"description\"])\n",
    "            weather_dictionary[\"temperature\"].append(weather_json[\"list\"][i][\"main\"][\"temp\"])\n",
    "            weather_dictionary[\"feels_like\"].append(weather_json[\"list\"][i][\"main\"][\"feels_like\"])\n",
    "            weather_dictionary[\"temp_min\"].append(weather_json[\"list\"][i][\"main\"][\"temp_min\"])\n",
    "            weather_dictionary[\"temp_max\"].append(weather_json[\"list\"][i][\"main\"][\"temp_max\"])\n",
    "            weather_dictionary[\"wind_speed\"].append(weather_json[\"list\"][i][\"wind\"][\"speed\"])\n",
    "            weather_dictionary[\"rain_prob\"].append(weather_json[\"list\"][i][\"pop\"])\n",
    "            #weather_dictionary[\"data_retrieved_at\"].append(retrieval_time)\n",
    "            i += 1\n",
    "            \n",
    "    # Create a DataFrame from the weather data\n",
    "    weather_dict = pd.DataFrame(weather_dictionary)\n",
    "    weather_dict[\"forecast_time\"] = pd.to_datetime(weather_dict[\"forecast_time\"])\n",
    "    #weather_dict[\"data_retrieved_at\"] = pd.to_datetime(weather_dict[\"data_retrieved_at\"])\n",
    "\n",
    "    weather_dict.to_sql('cities_weather', if_exists=\"replace\", con=connection_string, index=False)\n",
    "\n",
    "    return \"Data has been sent to the table\"\n"
   ]
  },
  {
   "cell_type": "markdown",
   "metadata": {},
   "source": [
    "requirements.txt file:"
   ]
  },
  {
   "cell_type": "markdown",
   "metadata": {},
   "source": [
    "````\n",
    "functions-framework==3.*\n",
    "sqlalchemy\n",
    "PyMySQL\n",
    "pandas\n",
    "requests\n",
    "pytz\n",
    "````"
   ]
  },
  {
   "cell_type": "markdown",
   "metadata": {},
   "source": [
    "We test our function by request_data. So we are going to simulate the http triggering of the cloud function.\n",
    "* This code simulate the return statement of the function.\n",
    "* And shows wether the function is going to run on the cloud or not."
   ]
  },
  {
   "cell_type": "code",
   "execution_count": null,
   "metadata": {},
   "outputs": [],
   "source": [
    "from flask import Request\n",
    "import json\n",
    "\n",
    "request_data = {}\n",
    "request = Request.from_values(data=json.dumps(request_data))\n",
    "\n",
    "# Call the function\n",
    "response = weather_function(request)\n",
    "print(response)"
   ]
  },
  {
   "cell_type": "markdown",
   "metadata": {},
   "source": [
    "## 2.&nbsp; Flight CLOUD function, with testing"
   ]
  },
  {
   "cell_type": "markdown",
   "metadata": {},
   "source": [
    "main.py file:"
   ]
  },
  {
   "cell_type": "code",
   "execution_count": 1,
   "metadata": {},
   "outputs": [],
   "source": [
    "import functions_framework\n",
    "import pandas as pd\n",
    "from datetime import datetime, timedelta\n",
    "import requests\n",
    "from pytz import timezone\n",
    "import sqlalchemy\n",
    "\n",
    "@functions_framework.http\n",
    "def flight_function(request):\n",
    "    schema = \"gans_schema\" # The name of your database in cloud\n",
    "    host = \"34.78.116.238\"\n",
    "    user = \"root\"\n",
    "    password = sql_password\n",
    "    port = 3306\n",
    "    \n",
    "    # Create the connection string for SQLAlchemy\n",
    "    connection_string = f'mysql+pymysql://{user}:{password}@{host}:{port}/{schema}'\n",
    "\n",
    "    airports_df = pd.read_sql(\"cities_airport\", con=connection_string)\n",
    "    existing_flights_df = pd.read_sql(\"cities_flight\", con=connection_string)\n",
    "    \n",
    "    api_key = {API_key}\n",
    "    berlin_timezone = timezone('Europe/Berlin')\n",
    "    today = datetime.now(berlin_timezone).date()\n",
    "    tomorrow = today + timedelta(days=1)\n",
    "    # Create an empty list for each of the values.\n",
    "    flight_dict_items = []\n",
    "\n",
    "    # Get the icao of the desired airports\n",
    "    for icaos in airports_df[\"airport_icao\"]:\n",
    "        times = [[\"00:00\", \"11:59\"], [\"12:00\", \"23:59\"]]\n",
    "        for time in times:\n",
    "            url = f\"https://aerodatabox.p.rapidapi.com/flights/airports/icao/{icaos}/{tomorrow}T{time[0]}/{tomorrow}T{time[1]}\"\n",
    "            querystring = {\"withLeg\":\"false\",\"direction\":\"Arrival\",\"withCancelled\":\"false\",\"withCodeshared\":\"true\",\"withCargo\":\"false\",\"withPrivate\":\"false\",\"withLocation\":\"false\"}\n",
    "            headers = {\n",
    "                \"x-rapidapi-key\": {API_key},\n",
    "                \"x-rapidapi-host\": \"aerodatabox.p.rapidapi.com\"\n",
    "                }\n",
    "            response = requests.get(url, headers=headers, params=querystring)\n",
    "            flight_json = response.json()\n",
    "\n",
    "            retrieval_time = datetime.now(berlin_timezone).strftime(\"%Y-%m-%d %H:%M:%S\")\n",
    "            icao_id = airports_df.loc[airports_df[\"airport_icao\"] == icaos, \"airport_icao\"].values[0]\n",
    "            \n",
    "            for item in flight_json[\"arrivals\"]:\n",
    "                flight_dict_item = {\n",
    "                    \"icao\": icao_id,\n",
    "                    \"icao_arrival\": item[\"movement\"][\"airport\"].get(\"icao\", None),\n",
    "                    \"arrival_local_time\": item[\"movement\"][\"scheduledTime\"].get(\"local\", None),\n",
    "                    \"arrival_utc_time\": item[\"movement\"][\"scheduledTime\"].get(\"utc\", None),\n",
    "                    \"revised_local_time\": item[\"movement\"].get(\"revisedTime\", {}).get(\"local\", 0),\n",
    "                    \"revised_utc_time\": item[\"movement\"].get(\"revisedTime\", {}).get(\"utc\", 0),\n",
    "                    \"flight_number\": item.get(\"number\", None),\n",
    "                    \"flight_status\": item.get(\"status\", None),\n",
    "                    \"airline_name\": item[\"airline\"].get(\"name\", None),\n",
    "                    }\n",
    "                \n",
    "                flight_dict_items.append(flight_dict_item)\n",
    "        \n",
    "    flight_dict_df = pd.DataFrame(flight_dict_items)\n",
    "\n",
    "    flight_dict_df[\"arrival_local_time\"] = pd.to_datetime(flight_dict_df[\"arrival_local_time\"])\n",
    "    # Remove the timezone\n",
    "    flight_dict_df[\"arrival_local_time\"] = flight_dict_df[\"arrival_local_time\"].dt.tz_localize(None)\n",
    "    # Add missing seconds before conversion\n",
    "    flight_dict_df[\"revised_local_time\"] = (flight_dict_df[\"revised_local_time\"]\n",
    "                                           .str\n",
    "                                           .replace(r\"(?<=\\d{2}:\\d{2})(?=\\+)\", \":00\", regex=True)\n",
    "                                           )\n",
    "    # Convert to datetime\n",
    "    flight_dict_df[\"revised_local_time\"] = pd.to_datetime(flight_dict_df[\"revised_local_time\"])\n",
    "    # Remove the timezone\n",
    "    flight_dict_df[\"revised_local_time\"] = flight_dict_df[\"revised_local_time\"].dt.tz_localize(None)\n",
    "    #we can remove some columns if we don't need them\n",
    "    flight_dict_df = (flight_dict_df\n",
    "                      .drop(\n",
    "                          columns=[\"arrival_utc_time\",\"revised_utc_time\",\"airline_name\"]\n",
    "                          )\n",
    "                          )\n",
    "    \n",
    "    flight_dict_df.to_sql('cities_flight', if_exists='append',con=connection_string, index=False)\n",
    "\n",
    "    return \"Data has been sent to the table\"\n"
   ]
  },
  {
   "cell_type": "markdown",
   "metadata": {},
   "source": [
    "requirements.txt file:"
   ]
  },
  {
   "cell_type": "markdown",
   "metadata": {},
   "source": [
    "````\n",
    "functions-framework==3.*\n",
    "pandas\n",
    "sqlalchemy\n",
    "requests\n",
    "PyMySQL\n",
    "````"
   ]
  },
  {
   "cell_type": "markdown",
   "metadata": {},
   "source": [
    "Testing the function:"
   ]
  },
  {
   "cell_type": "code",
   "execution_count": null,
   "metadata": {},
   "outputs": [],
   "source": [
    "from flask import Request\n",
    "import json\n",
    "\n",
    "request_data = {}\n",
    "request = Request.from_values(data=json.dumps(request_data))\n",
    "\n",
    "# Call the function\n",
    "response = flight_function(request)\n",
    "print(response)"
   ]
  }
 ],
 "metadata": {
  "kernelspec": {
   "display_name": "Python 3",
   "language": "python",
   "name": "python3"
  },
  "language_info": {
   "codemirror_mode": {
    "name": "ipython",
    "version": 3
   },
   "file_extension": ".py",
   "mimetype": "text/x-python",
   "name": "python",
   "nbconvert_exporter": "python",
   "pygments_lexer": "ipython3",
   "version": "3.13.0"
  }
 },
 "nbformat": 4,
 "nbformat_minor": 2
}
